{
 "cells": [
  {
   "cell_type": "markdown",
   "id": "62fd0c8e",
   "metadata": {},
   "source": [
    "# Python Programming Basic Assignment 13"
   ]
  },
  {
   "cell_type": "markdown",
   "id": "ed4a3c0b",
   "metadata": {},
   "source": [
    "\n",
    "### 1. Write a program that calculates and prints the value according to the given formula:\n",
    "Q = Square root of [(2 C D)/H]\n",
    "\n",
    "Following are the fixed values of C and H:\n",
    "\n",
    "C is 50. H is 30.\n",
    "\n",
    "D is the variable whose values should be input to your program in a comma-separated sequence.\n",
    "\n",
    "Example\n",
    "\n",
    "Let us assume the following comma separated input sequence is given to the program:\n",
    "\n",
    "100,150,180\n",
    "\n",
    "The output of the program should be:\n",
    "\n",
    "18,22,24"
   ]
  },
  {
   "cell_type": "code",
   "execution_count": 1,
   "id": "53cc8796-4960-4f87-970d-4acbf811fafa",
   "metadata": {
    "tags": []
   },
   "outputs": [
    {
     "name": "stdin",
     "output_type": "stream",
     "text": [
      "Enter comma-separated values of D:  100,150,180\n"
     ]
    },
    {
     "name": "stdout",
     "output_type": "stream",
     "text": [
      "Result: [18, 22, 24]\n"
     ]
    }
   ],
   "source": [
    "import math\n",
    "\n",
    "def calculate_values(input_sequence):\n",
    "    # Fixed values\n",
    "    C = 50\n",
    "    H = 30\n",
    "\n",
    "    # Splitting the input sequence into a list of integers\n",
    "    D_values = [int(d) for d in input_sequence.split(',')]\n",
    "\n",
    "    # Calculating Q for each D value and rounding to the nearest integer\n",
    "    result_values = [round(math.sqrt((2 * C * d) / H)) for d in D_values]\n",
    "\n",
    "    return result_values\n",
    "\n",
    "# Input from the user\n",
    "input_sequence = input(\"Enter comma-separated values of D: \")\n",
    "\n",
    "# Calculate and print the result\n",
    "result = calculate_values(input_sequence)\n",
    "print(\"Result:\", result)\n"
   ]
  },
  {
   "cell_type": "markdown",
   "id": "ed37b6ed",
   "metadata": {},
   "source": [
    "### 2. Write a program which takes 2 digits, X,Y as input and generates a 2-dimensional array. The element value in the i-th row and j-th column of the array should be i*j."
   ]
  },
  {
   "cell_type": "code",
   "execution_count": 2,
   "id": "27cd2418-264e-4975-ba05-d887d89fe21c",
   "metadata": {
    "tags": []
   },
   "outputs": [
    {
     "name": "stdin",
     "output_type": "stream",
     "text": [
      "Enter the number of rows (X):  3\n",
      "Enter the number of columns (Y):  4\n"
     ]
    },
    {
     "name": "stdout",
     "output_type": "stream",
     "text": [
      "Generated 2-dimensional array:\n",
      "[0, 0, 0, 0]\n",
      "[0, 1, 2, 3]\n",
      "[0, 2, 4, 6]\n"
     ]
    }
   ],
   "source": [
    "def generate_2d_array(rows, columns):\n",
    "    # Generating the 2-dimensional array\n",
    "    array_2d = [[i * j for j in range(columns)] for i in range(rows)]\n",
    "    return array_2d\n",
    "\n",
    "# Input from the user\n",
    "X = int(input(\"Enter the number of rows (X): \"))\n",
    "Y = int(input(\"Enter the number of columns (Y): \"))\n",
    "\n",
    "# Generate and print the 2-dimensional array\n",
    "result_array = generate_2d_array(X, Y)\n",
    "print(\"Generated 2-dimensional array:\")\n",
    "for row in result_array:\n",
    "    print(row)\n"
   ]
  },
  {
   "cell_type": "markdown",
   "id": "bc7f977b",
   "metadata": {},
   "source": [
    "### 3. Write a program that accepts a comma separated sequence of words as input and prints the words in a comma-separated sequence after sorting them alphabetically."
   ]
  },
  {
   "cell_type": "code",
   "execution_count": 3,
   "id": "fc66a6d6-8ef4-4a4e-adb2-30f08d09df1b",
   "metadata": {
    "tags": []
   },
   "outputs": [
    {
     "name": "stdin",
     "output_type": "stream",
     "text": [
      "Enter a comma-separated sequence of words:  orange,apple,banana,grape\n"
     ]
    },
    {
     "name": "stdout",
     "output_type": "stream",
     "text": [
      "Sorted words: apple,banana,grape,orange\n"
     ]
    }
   ],
   "source": [
    "def sort_words(input_sequence):\n",
    "    # Splitting the input sequence into a list of words\n",
    "    words = input_sequence.split(',')\n",
    "\n",
    "    # Sorting the words alphabetically\n",
    "    sorted_words = sorted(words)\n",
    "\n",
    "    # Joining the sorted words into a comma-separated sequence\n",
    "    result_sequence = ','.join(sorted_words)\n",
    "\n",
    "    return result_sequence\n",
    "\n",
    "# Input from the user\n",
    "input_sequence = input(\"Enter a comma-separated sequence of words: \")\n",
    "\n",
    "# Sort and print the result\n",
    "result = sort_words(input_sequence)\n",
    "print(\"Sorted words:\", result)\n"
   ]
  },
  {
   "cell_type": "markdown",
   "id": "171c3d90",
   "metadata": {},
   "source": [
    "### 4. Write a program that accepts a sequence of whitespace separated words as input and prints the words after removing all duplicate words and sorting them alphanumerically."
   ]
  },
  {
   "cell_type": "code",
   "execution_count": 4,
   "id": "e3d24acf-7692-4a7c-af97-0a3adfa05086",
   "metadata": {
    "tags": []
   },
   "outputs": [
    {
     "name": "stdin",
     "output_type": "stream",
     "text": [
      "Enter a sequence of whitespace-separated words:  apple orange banana apple grape banana\n"
     ]
    },
    {
     "name": "stdout",
     "output_type": "stream",
     "text": [
      "Result: apple banana grape orange\n"
     ]
    }
   ],
   "source": [
    "def remove_duplicates_and_sort(input_sequence):\n",
    "    # Splitting the input sequence into a list of words\n",
    "    words = input_sequence.split()\n",
    "\n",
    "    # Removing duplicate words and sorting them alphanumerically\n",
    "    unique_sorted_words = sorted(set(words))\n",
    "\n",
    "    # Joining the unique and sorted words into a whitespace-separated sequence\n",
    "    result_sequence = ' '.join(unique_sorted_words)\n",
    "\n",
    "    return result_sequence\n",
    "\n",
    "# Input from the user\n",
    "input_sequence = input(\"Enter a sequence of whitespace-separated words: \")\n",
    "\n",
    "# Remove duplicates, sort, and print the result\n",
    "result = remove_duplicates_and_sort(input_sequence)\n",
    "print(\"Result:\", result)\n"
   ]
  },
  {
   "cell_type": "markdown",
   "id": "88d25c49",
   "metadata": {},
   "source": [
    "### 5. Write a program that accepts a sentence and calculate the number of letters and digits."
   ]
  },
  {
   "cell_type": "code",
   "execution_count": 5,
   "id": "8b705ced-0614-49c3-b0d9-adec1c0c6289",
   "metadata": {
    "tags": []
   },
   "outputs": [
    {
     "name": "stdin",
     "output_type": "stream",
     "text": [
      "Enter a sentence:  Hello123World\n"
     ]
    },
    {
     "name": "stdout",
     "output_type": "stream",
     "text": [
      "Number of letters: 10\n",
      "Number of digits: 3\n"
     ]
    }
   ],
   "source": [
    "def calculate_letters_and_digits(sentence):\n",
    "    # Initialize counters\n",
    "    letter_count = 0\n",
    "    digit_count = 0\n",
    "\n",
    "    # Iterate through each character in the sentence\n",
    "    for char in sentence:\n",
    "        if char.isalpha():\n",
    "            letter_count += 1\n",
    "        elif char.isdigit():\n",
    "            digit_count += 1\n",
    "\n",
    "    return letter_count, digit_count\n",
    "\n",
    "# Input from the user\n",
    "sentence = input(\"Enter a sentence: \")\n",
    "\n",
    "# Calculate and print the result\n",
    "letters, digits = calculate_letters_and_digits(sentence)\n",
    "print(\"Number of letters:\", letters)\n",
    "print(\"Number of digits:\", digits)\n"
   ]
  },
  {
   "cell_type": "markdown",
   "id": "9695c4ca",
   "metadata": {},
   "source": [
    "### 6. A website requires the users to input username and password to register. Write a program to check the validity of password input by users."
   ]
  },
  {
   "cell_type": "code",
   "execution_count": 6,
   "id": "1d1ee20d-d188-454f-a985-5d4fff0e6815",
   "metadata": {
    "tags": []
   },
   "outputs": [
    {
     "name": "stdin",
     "output_type": "stream",
     "text": [
      "Enter your username:  john_doe\n",
      "Enter your password:  Passw0rd!\n"
     ]
    },
    {
     "name": "stdout",
     "output_type": "stream",
     "text": [
      "Registration successful! Your username: john_doe\n"
     ]
    }
   ],
   "source": [
    "def is_valid_password(password):\n",
    "    # Criteria for a valid password\n",
    "    # - At least 8 characters long\n",
    "    # - Contains at least one uppercase letter\n",
    "    # - Contains at least one lowercase letter\n",
    "    # - Contains at least one digit\n",
    "    # - Contains at least one special character (e.g., !@#$%^&*)\n",
    "\n",
    "    if len(password) < 8:\n",
    "        return False\n",
    "\n",
    "    has_upper = any(char.isupper() for char in password)\n",
    "    has_lower = any(char.islower() for char in password)\n",
    "    has_digit = any(char.isdigit() for char in password)\n",
    "    has_special = any(char in \"!@#$%^&*\" for char in password)\n",
    "\n",
    "    return has_upper and has_lower and has_digit and has_special\n",
    "\n",
    "# Input from the user\n",
    "username = input(\"Enter your username: \")\n",
    "password = input(\"Enter your password: \")\n",
    "\n",
    "# Check the validity of the password\n",
    "if is_valid_password(password):\n",
    "    print(\"Registration successful! Your username:\", username)\n",
    "else:\n",
    "    print(\"Invalid password. Please follow the password criteria.\")\n"
   ]
  },
  {
   "cell_type": "code",
   "execution_count": null,
   "id": "9ad87992-8f66-4bdc-ae79-8566df7df317",
   "metadata": {},
   "outputs": [],
   "source": []
  }
 ],
 "metadata": {
  "kernelspec": {
   "display_name": "Python 3 (ipykernel)",
   "language": "python",
   "name": "python3"
  },
  "language_info": {
   "codemirror_mode": {
    "name": "ipython",
    "version": 3
   },
   "file_extension": ".py",
   "mimetype": "text/x-python",
   "name": "python",
   "nbconvert_exporter": "python",
   "pygments_lexer": "ipython3",
   "version": "3.11.4"
  }
 },
 "nbformat": 4,
 "nbformat_minor": 5
}
