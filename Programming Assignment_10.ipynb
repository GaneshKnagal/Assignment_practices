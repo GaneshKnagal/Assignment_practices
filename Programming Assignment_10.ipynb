{
 "cells": [
  {
   "cell_type": "markdown",
   "id": "3dcb940f",
   "metadata": {},
   "source": [
    "## Python Basic Programming Assignment 10"
   ]
  },
  {
   "cell_type": "markdown",
   "id": "6720790a",
   "metadata": {},
   "source": [
    "### 1. Write a Python program to find sum of elements in list?"
   ]
  },
  {
   "cell_type": "code",
   "execution_count": 1,
   "id": "aeb2bd06-350b-4376-b830-784d5b5f1ba2",
   "metadata": {
    "tags": []
   },
   "outputs": [
    {
     "name": "stdin",
     "output_type": "stream",
     "text": [
      "Enter space-separated elements of the list:  1 2 4 6 7 9\n"
     ]
    },
    {
     "name": "stdout",
     "output_type": "stream",
     "text": [
      "Sum of elements in the list: 29\n"
     ]
    }
   ],
   "source": [
    "def find_sum_of_elements(lst):\n",
    "    # Using the built-in sum() function to calculate the sum\n",
    "    total_sum = sum(lst)\n",
    "    return total_sum\n",
    "\n",
    "# Input from the user\n",
    "input_list = [int(x) for x in input(\"Enter space-separated elements of the list: \").split()]\n",
    "\n",
    "# Find the sum of elements in the list\n",
    "result_sum = find_sum_of_elements(input_list)\n",
    "\n",
    "# Display the result\n",
    "print(f\"Sum of elements in the list: {result_sum}\")\n"
   ]
  },
  {
   "cell_type": "markdown",
   "id": "fe1137c3",
   "metadata": {},
   "source": [
    "### 2. Write a Python program to  Multiply all numbers in the list?"
   ]
  },
  {
   "cell_type": "code",
   "execution_count": 2,
   "id": "23098392-6a20-4204-aec4-8e6846458381",
   "metadata": {
    "tags": []
   },
   "outputs": [
    {
     "name": "stdin",
     "output_type": "stream",
     "text": [
      "Enter space-separated elements of the list:  1 4 5 3 2 1\n"
     ]
    },
    {
     "name": "stdout",
     "output_type": "stream",
     "text": [
      "Product of all numbers in the list: 120\n"
     ]
    }
   ],
   "source": [
    "def multiply_all_numbers(lst):\n",
    "    # Using the built-in function reduce() from the functools module\n",
    "    from functools import reduce\n",
    "    result_product = reduce(lambda x, y: x * y, lst, 1)\n",
    "    return result_product\n",
    "\n",
    "# Input from the user\n",
    "input_list = [int(x) for x in input(\"Enter space-separated elements of the list: \").split()]\n",
    "\n",
    "# Multiply all numbers in the list\n",
    "result_product = multiply_all_numbers(input_list)\n",
    "\n",
    "# Display the result\n",
    "print(f\"Product of all numbers in the list: {result_product}\")\n"
   ]
  },
  {
   "cell_type": "markdown",
   "id": "078681db",
   "metadata": {},
   "source": [
    "### 3. Write a Python program to find smallest number in a list?"
   ]
  },
  {
   "cell_type": "code",
   "execution_count": 3,
   "id": "b13e930b-a745-4b6b-baa4-732b79788f41",
   "metadata": {
    "tags": []
   },
   "outputs": [
    {
     "name": "stdin",
     "output_type": "stream",
     "text": [
      "Enter space-separated elements of the list:  1 6 8 3 1 5 0 -6 -9 \n"
     ]
    },
    {
     "name": "stdout",
     "output_type": "stream",
     "text": [
      "Smallest number in the list: -9\n"
     ]
    }
   ],
   "source": [
    "def find_smallest_number(lst):\n",
    "    # Using the built-in min() function to find the smallest number\n",
    "    smallest_number = min(lst)\n",
    "    return smallest_number\n",
    "\n",
    "# Input from the user\n",
    "input_list = [int(x) for x in input(\"Enter space-separated elements of the list: \").split()]\n",
    "\n",
    "# Find the smallest number in the list\n",
    "result_smallest_number = find_smallest_number(input_list)\n",
    "\n",
    "# Display the result\n",
    "print(f\"Smallest number in the list: {result_smallest_number}\")\n"
   ]
  },
  {
   "cell_type": "markdown",
   "id": "12b04397",
   "metadata": {},
   "source": [
    "### 4. Write a Python program to find largest number in a list?"
   ]
  },
  {
   "cell_type": "code",
   "execution_count": 4,
   "id": "53d59560-3d6c-4156-be78-f5a4329f4282",
   "metadata": {
    "tags": []
   },
   "outputs": [
    {
     "name": "stdin",
     "output_type": "stream",
     "text": [
      "Enter space-separated elements of the list:  2 5 7 -3 0 3 9 11 42 \n"
     ]
    },
    {
     "name": "stdout",
     "output_type": "stream",
     "text": [
      "Largest number in the list: 42\n"
     ]
    }
   ],
   "source": [
    "def find_largest_number(lst):\n",
    "    # Using the built-in max() function to find the largest number\n",
    "    largest_number = max(lst)\n",
    "    return largest_number\n",
    "\n",
    "# Input from the user\n",
    "input_list = [int(x) for x in input(\"Enter space-separated elements of the list: \").split()]\n",
    "\n",
    "# Find the largest number in the list\n",
    "result_largest_number = find_largest_number(input_list)\n",
    "\n",
    "# Display the result\n",
    "print(f\"Largest number in the list: {result_largest_number}\")\n"
   ]
  },
  {
   "cell_type": "markdown",
   "id": "86442b51",
   "metadata": {},
   "source": [
    "### 5. Write a Python program to find second largest number in a list?"
   ]
  },
  {
   "cell_type": "code",
   "execution_count": 5,
   "id": "0cdad46e-6cbc-4538-9e5f-ba2ac6270256",
   "metadata": {
    "tags": []
   },
   "outputs": [
    {
     "name": "stdin",
     "output_type": "stream",
     "text": [
      "Enter space-separated elements of the list:  1 3 5 7 88 9 5  553 2 2 46\n"
     ]
    },
    {
     "name": "stdout",
     "output_type": "stream",
     "text": [
      "Second largest number in the list: 88\n"
     ]
    }
   ],
   "source": [
    "def find_second_largest_number(lst):\n",
    "    # Remove duplicates by converting the list to a set and then back to a list\n",
    "    unique_numbers = list(set(lst))\n",
    "    \n",
    "    # Check if there are at least two unique numbers in the list\n",
    "    if len(unique_numbers) < 2:\n",
    "        return \"List doesn't have a second largest number\"\n",
    "    \n",
    "    # Using the built-in max() function to find the largest number\n",
    "    largest_number = max(unique_numbers)\n",
    "    \n",
    "    # Remove the largest number to find the second largest number\n",
    "    unique_numbers.remove(largest_number)\n",
    "    \n",
    "    # Find the second largest number using the max() function again\n",
    "    second_largest_number = max(unique_numbers)\n",
    "    \n",
    "    return second_largest_number\n",
    "\n",
    "# Input from the user\n",
    "input_list = [int(x) for x in input(\"Enter space-separated elements of the list: \").split()]\n",
    "\n",
    "# Find the second largest number in the list\n",
    "result_second_largest_number = find_second_largest_number(input_list)\n",
    "\n",
    "# Display the result\n",
    "print(f\"Second largest number in the list: {result_second_largest_number}\")\n"
   ]
  },
  {
   "cell_type": "markdown",
   "id": "10964d7d",
   "metadata": {},
   "source": [
    "### 6. Write a Python program to find N largest elements from a list?"
   ]
  },
  {
   "cell_type": "code",
   "execution_count": 6,
   "id": "3636c621-631c-4464-b428-48850446c71f",
   "metadata": {
    "tags": []
   },
   "outputs": [
    {
     "name": "stdin",
     "output_type": "stream",
     "text": [
      "Enter space-separated elements of the list:  1 3 5 7 8 0 66 43 11 45\n",
      "Enter the value of N:  3\n"
     ]
    },
    {
     "name": "stdout",
     "output_type": "stream",
     "text": [
      "3 largest elements in the list: [66, 45, 43]\n"
     ]
    }
   ],
   "source": [
    "def find_n_largest_elements(lst, n):\n",
    "    # Remove duplicates by converting the list to a set and then back to a list\n",
    "    unique_numbers = list(set(lst))\n",
    "    \n",
    "    # Check if there are at least N unique numbers in the list\n",
    "    if len(unique_numbers) < n:\n",
    "        return f\"List doesn't have {n} distinct elements\"\n",
    "    \n",
    "    # Find the N largest elements using the sorted() function\n",
    "    n_largest_elements = sorted(unique_numbers, reverse=True)[:n]\n",
    "    \n",
    "    return n_largest_elements\n",
    "\n",
    "# Input from the user\n",
    "input_list = [int(x) for x in input(\"Enter space-separated elements of the list: \").split()]\n",
    "n = int(input(\"Enter the value of N: \"))\n",
    "\n",
    "# Find the N largest elements in the list\n",
    "result_n_largest_elements = find_n_largest_elements(input_list, n)\n",
    "\n",
    "# Display the result\n",
    "print(f\"{n} largest elements in the list: {result_n_largest_elements}\")\n"
   ]
  },
  {
   "cell_type": "markdown",
   "id": "2f1a1e98",
   "metadata": {},
   "source": [
    "### 7. Write a Python program to print even numbers in a list?"
   ]
  },
  {
   "cell_type": "code",
   "execution_count": 7,
   "id": "f20a4a85-5d21-4e70-932b-f262dcedcd93",
   "metadata": {
    "tags": []
   },
   "outputs": [
    {
     "name": "stdin",
     "output_type": "stream",
     "text": [
      "Enter space-separated elements of the list:  2 4 6 8 3 1 4 7 8\n"
     ]
    },
    {
     "name": "stdout",
     "output_type": "stream",
     "text": [
      "Even numbers in the list: [2, 4, 6, 8, 4, 8]\n"
     ]
    }
   ],
   "source": [
    "def print_even_numbers(lst):\n",
    "    even_numbers = [num for num in lst if num % 2 == 0]\n",
    "    return even_numbers\n",
    "\n",
    "# Input from the user\n",
    "input_list = [int(x) for x in input(\"Enter space-separated elements of the list: \").split()]\n",
    "\n",
    "# Find and print even numbers in the list\n",
    "result_even_numbers = print_even_numbers(input_list)\n",
    "\n",
    "# Display the result\n",
    "print(\"Even numbers in the list:\", result_even_numbers)\n"
   ]
  },
  {
   "cell_type": "markdown",
   "id": "989bb324",
   "metadata": {},
   "source": [
    "### 8. Write a Python program to print odd numbers in a List?"
   ]
  },
  {
   "cell_type": "code",
   "execution_count": 8,
   "id": "3c4e0540-89ba-4bd4-8dbd-5723fd08e2c1",
   "metadata": {
    "tags": []
   },
   "outputs": [
    {
     "name": "stdin",
     "output_type": "stream",
     "text": [
      "Enter space-separated elements of the list:  2 4 6 2 1 4 3 26 7 5 9 0\n"
     ]
    },
    {
     "name": "stdout",
     "output_type": "stream",
     "text": [
      "Odd numbers in the list: [1, 3, 7, 5, 9]\n"
     ]
    }
   ],
   "source": [
    "def print_odd_numbers(lst):\n",
    "    odd_numbers = [num for num in lst if num % 2 != 0]\n",
    "    return odd_numbers\n",
    "\n",
    "# Input from the user\n",
    "input_list = [int(x) for x in input(\"Enter space-separated elements of the list: \").split()]\n",
    "\n",
    "# Find and print odd numbers in the list\n",
    "result_odd_numbers = print_odd_numbers(input_list)\n",
    "\n",
    "# Display the result\n",
    "print(\"Odd numbers in the list:\", result_odd_numbers)\n"
   ]
  },
  {
   "cell_type": "markdown",
   "id": "185b7b13",
   "metadata": {},
   "source": [
    "### 9. Write a Python program to Remove empty List from List?"
   ]
  },
  {
   "cell_type": "code",
   "execution_count": 9,
   "id": "a7f4674e-1233-4cf4-81da-d43c234d0e42",
   "metadata": {
    "tags": []
   },
   "outputs": [
    {
     "name": "stdin",
     "output_type": "stream",
     "text": [
      "Enter a list containing sublists:  [1, [2, 3], [], [4, 5], [], 6, [7, 8, 9], []]\n"
     ]
    },
    {
     "name": "stdout",
     "output_type": "stream",
     "text": [
      "List after removing empty lists: [[2, 3], [4, 5], [7, 8, 9]]\n"
     ]
    }
   ],
   "source": [
    "def remove_empty_lists(lst):\n",
    "    non_empty_lists = [sublist for sublist in lst if isinstance(sublist, list) and len(sublist) > 0]\n",
    "    return non_empty_lists\n",
    "\n",
    "# Input from the user\n",
    "input_list = eval(input(\"Enter a list containing sublists: \"))\n",
    "\n",
    "# Remove empty lists from the input list\n",
    "result_non_empty_lists = remove_empty_lists(input_list)\n",
    "\n",
    "# Display the result\n",
    "print(\"List after removing empty lists:\", result_non_empty_lists)\n"
   ]
  },
  {
   "cell_type": "markdown",
   "id": "278cfacc",
   "metadata": {},
   "source": [
    "### 10. Write a Python program to Cloning or Copying a list?"
   ]
  },
  {
   "cell_type": "code",
   "execution_count": 10,
   "id": "d5bd0b4b-7c59-4c66-b48b-9d025a50ba60",
   "metadata": {
    "tags": []
   },
   "outputs": [
    {
     "name": "stdout",
     "output_type": "stream",
     "text": [
      "Original List: [1, 2, 3, 4, 5]\n",
      "Cloned List: [1, 2, 3, 4, 5]\n"
     ]
    }
   ],
   "source": [
    "original_list = [1, 2, 3, 4, 5]\n",
    "# Using the copy() method to create a shallow copy\n",
    "cloned_list = original_list.copy()\n",
    "print(\"Original List:\", original_list)\n",
    "print(\"Cloned List:\", cloned_list)\n"
   ]
  },
  {
   "cell_type": "markdown",
   "id": "b359bedf",
   "metadata": {},
   "source": [
    "### 11. Write a Python program to Count occurrences of an element in a list?"
   ]
  },
  {
   "cell_type": "code",
   "execution_count": 11,
   "id": "9c819f60-c881-43b4-bb93-cfc6ae838e41",
   "metadata": {
    "tags": []
   },
   "outputs": [
    {
     "name": "stdin",
     "output_type": "stream",
     "text": [
      "Enter space-separated elements of the list:  1 2 4 5 5 5 7 7 8 9\n",
      "Enter the element to count:  7\n"
     ]
    },
    {
     "name": "stdout",
     "output_type": "stream",
     "text": [
      "Occurrences of 7 in the list: 2\n"
     ]
    }
   ],
   "source": [
    "def count_occurrences(lst, element):\n",
    "    # Using the count() method to count occurrences\n",
    "    occurrences = lst.count(element)\n",
    "    return occurrences\n",
    "\n",
    "# Input from the user\n",
    "input_list = [int(x) for x in input(\"Enter space-separated elements of the list: \").split()]\n",
    "element_to_count = int(input(\"Enter the element to count: \"))\n",
    "\n",
    "# Count occurrences of the element in the list\n",
    "result_occurrences = count_occurrences(input_list, element_to_count)\n",
    "\n",
    "# Display the result\n",
    "print(f\"Occurrences of {element_to_count} in the list: {result_occurrences}\")\n"
   ]
  },
  {
   "cell_type": "code",
   "execution_count": null,
   "id": "ff9644e0-01ec-4c4f-8274-2763459d1180",
   "metadata": {},
   "outputs": [],
   "source": []
  }
 ],
 "metadata": {
  "kernelspec": {
   "display_name": "Python 3 (ipykernel)",
   "language": "python",
   "name": "python3"
  },
  "language_info": {
   "codemirror_mode": {
    "name": "ipython",
    "version": 3
   },
   "file_extension": ".py",
   "mimetype": "text/x-python",
   "name": "python",
   "nbconvert_exporter": "python",
   "pygments_lexer": "ipython3",
   "version": "3.11.4"
  }
 },
 "nbformat": 4,
 "nbformat_minor": 5
}
