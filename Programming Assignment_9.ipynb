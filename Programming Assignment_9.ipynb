{
 "cells": [
  {
   "cell_type": "markdown",
   "id": "47b9bb99",
   "metadata": {},
   "source": [
    "## Programming Assignment_9\n",
    "----------------"
   ]
  },
  {
   "cell_type": "markdown",
   "id": "c725f7a9",
   "metadata": {},
   "source": [
    "### 1. Write a Python program to check if the given number is a Disarium Number?"
   ]
  },
  {
   "cell_type": "code",
   "execution_count": 1,
   "id": "257a6459-9c5d-4cca-b492-6e74f66365c6",
   "metadata": {
    "tags": []
   },
   "outputs": [
    {
     "name": "stdin",
     "output_type": "stream",
     "text": [
      "Enter a number:  89\n"
     ]
    },
    {
     "name": "stdout",
     "output_type": "stream",
     "text": [
      "89 is a Disarium Number.\n"
     ]
    }
   ],
   "source": [
    "def is_disarium_number(num):\n",
    "    # Convert the number to a string to get individual digits\n",
    "    num_str = str(num)\n",
    "\n",
    "    # Calculate the sum of digits each raised to the power of its own position\n",
    "    digit_sum = sum(int(digit) ** (index + 1) for index, digit in enumerate(num_str))\n",
    "\n",
    "    # Check if the sum is equal to the original number\n",
    "    return digit_sum == num\n",
    "\n",
    "# Input from the user\n",
    "number = int(input(\"Enter a number: \"))\n",
    "\n",
    "# Check if the number is a Disarium Number\n",
    "if is_disarium_number(number):\n",
    "    print(f\"{number} is a Disarium Number.\")\n",
    "else:\n",
    "    print(f\"{number} is not a Disarium Number.\")\n"
   ]
  },
  {
   "cell_type": "code",
   "execution_count": null,
   "id": "ed2e66a6-5665-4e40-9ba7-4f7c21e8bdcb",
   "metadata": {},
   "outputs": [],
   "source": []
  },
  {
   "cell_type": "markdown",
   "id": "f0064401",
   "metadata": {},
   "source": [
    "### 2. Write a Python program to print all disarium numbers between 1 to 100?"
   ]
  },
  {
   "cell_type": "code",
   "execution_count": 2,
   "id": "64abf268-39bc-44e7-9966-357de8e14c50",
   "metadata": {
    "tags": []
   },
   "outputs": [
    {
     "name": "stdout",
     "output_type": "stream",
     "text": [
      "Disarium numbers between 1 and 100:\n",
      "[1, 2, 3, 4, 5, 6, 7, 8, 9, 89]\n"
     ]
    }
   ],
   "source": [
    "def is_disarium_number(num):\n",
    "    # Convert the number to a string to get individual digits\n",
    "    num_str = str(num)\n",
    "\n",
    "    # Calculate the sum of digits each raised to the power of its own position\n",
    "    digit_sum = sum(int(digit) ** (index + 1) for index, digit in enumerate(num_str))\n",
    "\n",
    "    # Check if the sum is equal to the original number\n",
    "    return digit_sum == num\n",
    "\n",
    "# Find and print Disarium numbers between 1 and 100\n",
    "disarium_numbers = [num for num in range(1, 101) if is_disarium_number(num)]\n",
    "\n",
    "print(\"Disarium numbers between 1 and 100:\")\n",
    "print(disarium_numbers)\n"
   ]
  },
  {
   "cell_type": "code",
   "execution_count": null,
   "id": "5990771e-2be3-4593-ad5f-10e8bc578a64",
   "metadata": {},
   "outputs": [],
   "source": []
  },
  {
   "cell_type": "markdown",
   "id": "31df1e4a",
   "metadata": {},
   "source": [
    "### 3. Write a Python program to check if the given number is Happy Number?"
   ]
  },
  {
   "cell_type": "code",
   "execution_count": 3,
   "id": "c0e66d0d-5b7e-442c-86d2-37e3de82ac0a",
   "metadata": {
    "tags": []
   },
   "outputs": [
    {
     "name": "stdin",
     "output_type": "stream",
     "text": [
      "Enter a number:  19\n"
     ]
    },
    {
     "name": "stdout",
     "output_type": "stream",
     "text": [
      "19 is a Happy Number.\n"
     ]
    }
   ],
   "source": [
    "def is_happy_number(num):\n",
    "    seen = set()\n",
    "\n",
    "    while num != 1 and num not in seen:\n",
    "        seen.add(num)\n",
    "        num = sum(int(digit) ** 2 for digit in str(num))\n",
    "\n",
    "    return num == 1\n",
    "\n",
    "# Input from the user\n",
    "number = int(input(\"Enter a number: \"))\n",
    "\n",
    "# Check if the number is a Happy Number\n",
    "if is_happy_number(number):\n",
    "    print(f\"{number} is a Happy Number.\")\n",
    "else:\n",
    "    print(f\"{number} is not a Happy Number.\")\n"
   ]
  },
  {
   "cell_type": "code",
   "execution_count": null,
   "id": "a8662a87-9d22-4bc3-881c-3b8a8b579617",
   "metadata": {},
   "outputs": [],
   "source": []
  },
  {
   "cell_type": "markdown",
   "id": "51b265e3",
   "metadata": {},
   "source": [
    "### 4. Write a Python program to print all happy numbers between 1 and 100?"
   ]
  },
  {
   "cell_type": "code",
   "execution_count": 4,
   "id": "2d7ff5e3-80ba-42b6-bf9a-447e51ee7467",
   "metadata": {
    "tags": []
   },
   "outputs": [
    {
     "name": "stdout",
     "output_type": "stream",
     "text": [
      "Happy Numbers between 1 and 100:\n",
      "[1, 7, 10, 13, 19, 23, 28, 31, 32, 44, 49, 68, 70, 79, 82, 86, 91, 94, 97, 100]\n"
     ]
    }
   ],
   "source": [
    "def is_happy_number(num):\n",
    "    seen = set()\n",
    "\n",
    "    while num != 1 and num not in seen:\n",
    "        seen.add(num)\n",
    "        num = sum(int(digit) ** 2 for digit in str(num))\n",
    "\n",
    "    return num == 1\n",
    "\n",
    "# Find and print Happy Numbers between 1 and 100\n",
    "happy_numbers = [num for num in range(1, 101) if is_happy_number(num)]\n",
    "\n",
    "print(\"Happy Numbers between 1 and 100:\")\n",
    "print(happy_numbers)\n"
   ]
  },
  {
   "cell_type": "code",
   "execution_count": null,
   "id": "fdb2f2ff-dcc1-42e9-8e2c-b25a55b88df9",
   "metadata": {},
   "outputs": [],
   "source": []
  },
  {
   "cell_type": "markdown",
   "id": "6a190ee0",
   "metadata": {},
   "source": [
    "### 5. Write a Python program to determine whether the given number is a Harshad Number?"
   ]
  },
  {
   "cell_type": "code",
   "execution_count": 5,
   "id": "58fa12bc-c777-4286-86c6-9a57458a44fd",
   "metadata": {
    "tags": []
   },
   "outputs": [
    {
     "name": "stdin",
     "output_type": "stream",
     "text": [
      "Enter a number:  18\n"
     ]
    },
    {
     "name": "stdout",
     "output_type": "stream",
     "text": [
      "18 is a Harshad Number.\n"
     ]
    }
   ],
   "source": [
    "def is_harshad_number(num):\n",
    "    # Calculate the sum of digits\n",
    "    digit_sum = sum(int(digit) for digit in str(num))\n",
    "\n",
    "    # Check if the number is divisible by the sum of its digits\n",
    "    return num % digit_sum == 0\n",
    "\n",
    "# Input from the user\n",
    "number = int(input(\"Enter a number: \"))\n",
    "\n",
    "# Check if the number is a Harshad Number\n",
    "if is_harshad_number(number):\n",
    "    print(f\"{number} is a Harshad Number.\")\n",
    "else:\n",
    "    print(f\"{number} is not a Harshad Number.\")\n"
   ]
  },
  {
   "cell_type": "code",
   "execution_count": null,
   "id": "c899d8bd-fc25-4ca1-a77f-e877d3b0d088",
   "metadata": {},
   "outputs": [],
   "source": []
  },
  {
   "cell_type": "markdown",
   "id": "7a7ea92e",
   "metadata": {},
   "source": [
    "### 6. Write a Python program to print all pronic numbers between 1 and 100?"
   ]
  },
  {
   "cell_type": "code",
   "execution_count": 6,
   "id": "8d5f841e-cf53-4bbe-86c3-4df384d36143",
   "metadata": {
    "tags": []
   },
   "outputs": [
    {
     "name": "stdout",
     "output_type": "stream",
     "text": [
      "Pronic Numbers between 1 and 100:\n",
      "[2, 6, 12, 20, 30, 42, 56, 72, 90]\n"
     ]
    }
   ],
   "source": [
    "def is_pronic_number(num):\n",
    "    # Find the square root of the number\n",
    "    sqrt_num = int(num ** 0.5)\n",
    "\n",
    "    # Check if it is a pronic number\n",
    "    return sqrt_num * (sqrt_num + 1) == num\n",
    "\n",
    "# Find and print pronic numbers between 1 and 100\n",
    "pronic_numbers = [num for num in range(1, 101) if is_pronic_number(num)]\n",
    "\n",
    "print(\"Pronic Numbers between 1 and 100:\")\n",
    "print(pronic_numbers)\n"
   ]
  },
  {
   "cell_type": "code",
   "execution_count": null,
   "id": "d141510c-e839-4de3-bf1f-1a2581397afa",
   "metadata": {},
   "outputs": [],
   "source": []
  }
 ],
 "metadata": {
  "kernelspec": {
   "display_name": "Python 3 (ipykernel)",
   "language": "python",
   "name": "python3"
  },
  "language_info": {
   "codemirror_mode": {
    "name": "ipython",
    "version": 3
   },
   "file_extension": ".py",
   "mimetype": "text/x-python",
   "name": "python",
   "nbconvert_exporter": "python",
   "pygments_lexer": "ipython3",
   "version": "3.11.4"
  }
 },
 "nbformat": 4,
 "nbformat_minor": 5
}
