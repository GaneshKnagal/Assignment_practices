{
 "cells": [
  {
   "cell_type": "markdown",
   "id": "35297a20",
   "metadata": {},
   "source": [
    "## Programming Basic Assignment 7"
   ]
  },
  {
   "cell_type": "markdown",
   "id": "27349114",
   "metadata": {},
   "source": [
    "### 1. Write a Python Program to find sum of array?"
   ]
  },
  {
   "cell_type": "code",
   "execution_count": 1,
   "id": "58a5bfc4-e733-4f8a-8a24-faa70133e274",
   "metadata": {
    "tags": []
   },
   "outputs": [
    {
     "name": "stdin",
     "output_type": "stream",
     "text": [
      "Enter space-separated elements of the array:  1 2 3 6 7\n"
     ]
    },
    {
     "name": "stdout",
     "output_type": "stream",
     "text": [
      "The sum of the array elements is: 19\n"
     ]
    }
   ],
   "source": [
    "def find_sum_of_array(arr):\n",
    "    return sum(arr)\n",
    "\n",
    "# Input from the user\n",
    "array = [int(x) for x in input(\"Enter space-separated elements of the array: \").split()]\n",
    "\n",
    "# Calculate the sum of the array\n",
    "sum_result = find_sum_of_array(array)\n",
    "\n",
    "# Display the result\n",
    "print(f\"The sum of the array elements is: {sum_result}\")\n"
   ]
  },
  {
   "cell_type": "markdown",
   "id": "171a980d",
   "metadata": {},
   "source": [
    "### 2. Write a Python Program to find largest element in an array?\n"
   ]
  },
  {
   "cell_type": "code",
   "execution_count": 6,
   "id": "da4a09a6-8e06-46ae-8813-d5dd7ed317fc",
   "metadata": {
    "tags": []
   },
   "outputs": [],
   "source": [
    "def largest_element():\n",
    "    # Input from the user\n",
    "    array = [int(x) for x in input(\"Enter space-separated elements of the array: \").split()]\n",
    "    c = float('-inf')\n",
    "    for i in array:\n",
    "        if i>c:\n",
    "            c=i\n",
    "    print(f\"Largest element is : {c}\")          \n",
    "            "
   ]
  },
  {
   "cell_type": "code",
   "execution_count": 8,
   "id": "cab2769e-93eb-46f1-9f76-090efe35fb85",
   "metadata": {
    "tags": []
   },
   "outputs": [
    {
     "name": "stdin",
     "output_type": "stream",
     "text": [
      "Enter space-separated elements of the array:  -222 -23 999 10000\n"
     ]
    },
    {
     "name": "stdout",
     "output_type": "stream",
     "text": [
      "Largest element is : 10000\n"
     ]
    }
   ],
   "source": [
    "largest_element()"
   ]
  },
  {
   "cell_type": "markdown",
   "id": "21613246",
   "metadata": {},
   "source": [
    "### 3. Write a Python Program for array rotation?"
   ]
  },
  {
   "cell_type": "code",
   "execution_count": 9,
   "id": "b7c61f65-2dc1-41ce-9f75-825ef07d8a5a",
   "metadata": {
    "tags": []
   },
   "outputs": [
    {
     "name": "stdin",
     "output_type": "stream",
     "text": [
      "Enter space-separated elements of the array:  1 2 3 4 5 6 7 8\n",
      "Enter the number of rotation steps:  3\n"
     ]
    },
    {
     "name": "stdout",
     "output_type": "stream",
     "text": [
      "The array after 3 right rotations is:\n",
      "[6, 7, 8, 1, 2, 3, 4, 5]\n"
     ]
    }
   ],
   "source": [
    "def rotate_array(arr, k):\n",
    "    n = len(arr)\n",
    "    k = k % n  # To handle cases where k is greater than the length of the array\n",
    "\n",
    "    # Rotate the array to the right\n",
    "    rotated_array = arr[-k:] + arr[:-k]\n",
    "\n",
    "    return rotated_array\n",
    "\n",
    "# Input from the user\n",
    "array = [int(x) for x in input(\"Enter space-separated elements of the array: \").split()]\n",
    "rotation_steps = int(input(\"Enter the number of rotation steps: \"))\n",
    "\n",
    "# Rotate the array\n",
    "rotated_result = rotate_array(array, rotation_steps)\n",
    "\n",
    "# Display the result\n",
    "print(f\"The array after {rotation_steps} right rotations is:\")\n",
    "print(rotated_result)\n"
   ]
  },
  {
   "cell_type": "code",
   "execution_count": null,
   "id": "80a9f839-c391-4053-b30f-3c95d328b716",
   "metadata": {},
   "outputs": [],
   "source": []
  },
  {
   "cell_type": "markdown",
   "id": "3e52d939",
   "metadata": {},
   "source": [
    "### 4. Write a Python Program to Split the array and add the first part to the end?"
   ]
  },
  {
   "cell_type": "code",
   "execution_count": 10,
   "id": "a5c3c387-0278-4710-bbbc-816e5b57610f",
   "metadata": {
    "tags": []
   },
   "outputs": [
    {
     "name": "stdin",
     "output_type": "stream",
     "text": [
      "Enter space-separated elements of the array:  1 2 3 4 5 6 7 8 \n",
      "Enter the split index:  2\n"
     ]
    },
    {
     "name": "stdout",
     "output_type": "stream",
     "text": [
      "The array after splitting at index 2 and adding the first part to the end is:\n",
      "[4, 5, 6, 7, 8, 1, 2, 3]\n"
     ]
    }
   ],
   "source": [
    "def split_and_add_to_end(arr, split_index):\n",
    "    if split_index < 0 or split_index >= len(arr):\n",
    "        return \"Invalid split index. Please provide a valid index within the array range.\"\n",
    "\n",
    "    # Split the array and add the first part to the end\n",
    "    split_result = arr[split_index + 1:] + arr[:split_index + 1]\n",
    "\n",
    "    return split_result\n",
    "\n",
    "# Input from the user\n",
    "array = [int(x) for x in input(\"Enter space-separated elements of the array: \").split()]\n",
    "split_index = int(input(\"Enter the split index: \"))\n",
    "\n",
    "# Split the array and add the first part to the end\n",
    "split_result = split_and_add_to_end(array, split_index)\n",
    "\n",
    "# Display the result\n",
    "print(f\"The array after splitting at index {split_index} and adding the first part to the end is:\")\n",
    "print(split_result)\n"
   ]
  },
  {
   "cell_type": "code",
   "execution_count": null,
   "id": "d7c13f9c-51fa-47b6-b940-1792f86bfccf",
   "metadata": {},
   "outputs": [],
   "source": []
  },
  {
   "cell_type": "markdown",
   "id": "aa375779",
   "metadata": {},
   "source": [
    "### 5. Write a Python Program to check if given array is Monotonic?"
   ]
  },
  {
   "cell_type": "code",
   "execution_count": 11,
   "id": "697f5609-a044-4255-a0e2-799d211dc055",
   "metadata": {
    "tags": []
   },
   "outputs": [
    {
     "name": "stdin",
     "output_type": "stream",
     "text": [
      "Enter space-separated elements of the array:  1 1 1 1 1\n"
     ]
    },
    {
     "name": "stdout",
     "output_type": "stream",
     "text": [
      "The given array is monotonic.\n"
     ]
    }
   ],
   "source": [
    "def is_monotonic(arr):\n",
    "    increasing = decreasing = True\n",
    "\n",
    "    for i in range(1, len(arr)):\n",
    "        if arr[i] > arr[i - 1]:\n",
    "            decreasing = False\n",
    "        elif arr[i] < arr[i - 1]:\n",
    "            increasing = False\n",
    "\n",
    "    return increasing or decreasing\n",
    "\n",
    "# Input from the user\n",
    "array = [int(x) for x in input(\"Enter space-separated elements of the array: \").split()]\n",
    "\n",
    "# Check if the array is monotonic\n",
    "result = is_monotonic(array)\n",
    "\n",
    "# Display the result\n",
    "if result:\n",
    "    print(\"The given array is monotonic.\")\n",
    "else:\n",
    "    print(\"The given array is not monotonic.\")\n"
   ]
  },
  {
   "cell_type": "code",
   "execution_count": 12,
   "id": "27a0f508-7da5-4cc5-831f-8376dac486ae",
   "metadata": {
    "tags": []
   },
   "outputs": [
    {
     "name": "stdin",
     "output_type": "stream",
     "text": [
      "Enter space-separated elements of the array:  2 2 3 4 5 2 1 \n"
     ]
    },
    {
     "name": "stdout",
     "output_type": "stream",
     "text": [
      "The given array is not monotonic.\n"
     ]
    }
   ],
   "source": [
    "# Input from the user\n",
    "array = [int(x) for x in input(\"Enter space-separated elements of the array: \").split()]\n",
    "\n",
    "# Check if the array is monotonic\n",
    "result = is_monotonic(array)\n",
    "\n",
    "# Display the result\n",
    "if result:\n",
    "    print(\"The given array is monotonic.\")\n",
    "else:\n",
    "    print(\"The given array is not monotonic.\")\n"
   ]
  },
  {
   "cell_type": "code",
   "execution_count": null,
   "id": "06b08199-2dd1-47a3-abf4-bb9fcf1516f0",
   "metadata": {},
   "outputs": [],
   "source": []
  }
 ],
 "metadata": {
  "kernelspec": {
   "display_name": "Python 3 (ipykernel)",
   "language": "python",
   "name": "python3"
  },
  "language_info": {
   "codemirror_mode": {
    "name": "ipython",
    "version": 3
   },
   "file_extension": ".py",
   "mimetype": "text/x-python",
   "name": "python",
   "nbconvert_exporter": "python",
   "pygments_lexer": "ipython3",
   "version": "3.11.4"
  }
 },
 "nbformat": 4,
 "nbformat_minor": 5
}
