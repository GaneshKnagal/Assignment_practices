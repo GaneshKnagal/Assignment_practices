{
 "cells": [
  {
   "cell_type": "markdown",
   "id": "53c7e882",
   "metadata": {},
   "source": [
    "# Python Basic Programming Assignment 11\n",
    "--------------------"
   ]
  },
  {
   "cell_type": "markdown",
   "id": "051da140",
   "metadata": {},
   "source": [
    "### 1. Write a Python program to find words which are greater than given length k?"
   ]
  },
  {
   "cell_type": "code",
   "execution_count": 1,
   "id": "2fcc236d-b900-4e59-8e71-7bad24903fc5",
   "metadata": {
    "tags": []
   },
   "outputs": [
    {
     "name": "stdin",
     "output_type": "stream",
     "text": [
      "Enter a space-separated list of words:  apple banana orange strawberry kiwi mango pineapple\n",
      "Enter the minimum length (k):  4\n"
     ]
    },
    {
     "name": "stdout",
     "output_type": "stream",
     "text": [
      "Words greater than length 4: ['apple', 'banana', 'orange', 'strawberry', 'mango', 'pineapple']\n"
     ]
    }
   ],
   "source": [
    "def find_words_greater_than_length(words, k):\n",
    "    # Using a list comprehension to filter words based on length\n",
    "    longer_words = [word for word in words if len(word) > k]\n",
    "    return longer_words\n",
    "\n",
    "# Input from the user\n",
    "input_string = input(\"Enter a space-separated list of words: \")\n",
    "word_list = input_string.split()\n",
    "k = int(input(\"Enter the minimum length (k): \"))\n",
    "\n",
    "# Find words greater than length k\n",
    "result_longer_words = find_words_greater_than_length(word_list, k)\n",
    "\n",
    "# Display the result\n",
    "print(f\"Words greater than length {k}: {result_longer_words}\")\n"
   ]
  },
  {
   "cell_type": "markdown",
   "id": "26719cbd",
   "metadata": {},
   "source": [
    "### 2. Write a Python program for removing i-th character from a string?"
   ]
  },
  {
   "cell_type": "code",
   "execution_count": 2,
   "id": "fabbe753-05be-4b8b-a32f-e03f20edaaef",
   "metadata": {
    "tags": []
   },
   "outputs": [
    {
     "name": "stdin",
     "output_type": "stream",
     "text": [
      "Enter a string:  strawberry\n",
      "Enter the index (i) to remove:  3\n"
     ]
    },
    {
     "name": "stdout",
     "output_type": "stream",
     "text": [
      "String after removing character at index 3: strwberry\n"
     ]
    }
   ],
   "source": [
    "def remove_ith_character(input_string, i):\n",
    "    # Check if i is a valid index\n",
    "    if 0 <= i < len(input_string):\n",
    "        # Using string slicing to remove the i-th character\n",
    "        modified_string = input_string[:i] + input_string[i+1:]\n",
    "        return modified_string\n",
    "    else:\n",
    "        return \"Invalid index\"\n",
    "\n",
    "# Input from the user\n",
    "input_string = input(\"Enter a string: \")\n",
    "i = int(input(\"Enter the index (i) to remove: \"))\n",
    "\n",
    "# Remove the i-th character from the string\n",
    "result_modified_string = remove_ith_character(input_string, i)\n",
    "\n",
    "# Display the result\n",
    "print(f\"String after removing character at index {i}: {result_modified_string}\")\n"
   ]
  },
  {
   "cell_type": "markdown",
   "id": "51ae6b0f",
   "metadata": {},
   "source": [
    "### 3. Write a Python program to split and join a string?"
   ]
  },
  {
   "cell_type": "code",
   "execution_count": 4,
   "id": "e544b2af-005f-46af-9f76-37b5b1763992",
   "metadata": {
    "tags": []
   },
   "outputs": [
    {
     "name": "stdin",
     "output_type": "stream",
     "text": [
      "Enter a string:  apple banana orange\n"
     ]
    },
    {
     "name": "stdout",
     "output_type": "stream",
     "text": [
      "Original words: ['apple', 'banana', 'orange']\n",
      "String after joining: apple banana orange\n"
     ]
    }
   ],
   "source": [
    "def split_and_join(input_string):\n",
    "    # Using the split() method to split the string into a list of words\n",
    "    words = input_string.split()\n",
    "    \n",
    "    # Using the join() method to join the words into a new string\n",
    "    modified_string = ' '.join(words)\n",
    "    \n",
    "    return words, modified_string\n",
    "\n",
    "# Input from the user\n",
    "input_string = input(\"Enter a string: \")\n",
    "\n",
    "# Split and join the string\n",
    "result_words, result_modified_string = split_and_join(input_string)\n",
    "\n",
    "# Display the results\n",
    "print(\"Original words:\", result_words)\n",
    "print(\"String after joining:\", result_modified_string)\n"
   ]
  },
  {
   "cell_type": "markdown",
   "id": "59079fe1",
   "metadata": {},
   "source": [
    "### 4. Write a Python to check if a given string is binary string or not?"
   ]
  },
  {
   "cell_type": "code",
   "execution_count": 5,
   "id": "f06016dd-80d8-4a74-a802-34b6508ccac6",
   "metadata": {
    "tags": []
   },
   "outputs": [
    {
     "name": "stdin",
     "output_type": "stream",
     "text": [
      "Enter a string:  101010101\n"
     ]
    },
    {
     "name": "stdout",
     "output_type": "stream",
     "text": [
      "The entered string is a binary string.\n"
     ]
    }
   ],
   "source": [
    "def is_binary_string(input_string):\n",
    "    # Using set to check if characters are only '0' and '1'\n",
    "    allowed_characters = {'0', '1'}\n",
    "    \n",
    "    # Check if all characters in the string are either '0' or '1'\n",
    "    return set(input_string) <= allowed_characters\n",
    "\n",
    "# Input from the user\n",
    "input_string = input(\"Enter a string: \")\n",
    "\n",
    "# Check if the string is a binary string\n",
    "result = is_binary_string(input_string)\n",
    "\n",
    "# Display the result\n",
    "if result:\n",
    "    print(\"The entered string is a binary string.\")\n",
    "else:\n",
    "    print(\"The entered string is not a binary string.\")\n"
   ]
  },
  {
   "cell_type": "code",
   "execution_count": 6,
   "id": "246eeae2-413a-4c0b-ad7d-2d81174862ab",
   "metadata": {
    "tags": []
   },
   "outputs": [
    {
     "name": "stdin",
     "output_type": "stream",
     "text": [
      "Enter a string:  11012011\n"
     ]
    },
    {
     "name": "stdout",
     "output_type": "stream",
     "text": [
      "The entered string is not a binary string.\n"
     ]
    }
   ],
   "source": [
    "# Input from the user\n",
    "input_string = input(\"Enter a string: \")\n",
    "\n",
    "# Check if the string is a binary string\n",
    "result = is_binary_string(input_string)\n",
    "\n",
    "# Display the result\n",
    "if result:\n",
    "    print(\"The entered string is a binary string.\")\n",
    "else:\n",
    "    print(\"The entered string is not a binary string.\")"
   ]
  },
  {
   "cell_type": "markdown",
   "id": "4d6cf11a",
   "metadata": {},
   "source": [
    "### 5. Write a Python program to find uncommon words from two Strings?"
   ]
  },
  {
   "cell_type": "code",
   "execution_count": 7,
   "id": "8430badf-ff61-44b3-ba75-093d896638fe",
   "metadata": {
    "tags": []
   },
   "outputs": [
    {
     "name": "stdin",
     "output_type": "stream",
     "text": [
      "Enter the first string:  The quick brown fox jumps over the lazy dog.\n",
      "Enter the second string:  The lazy cat sleeps on the windowsill.\n"
     ]
    },
    {
     "name": "stdout",
     "output_type": "stream",
     "text": [
      "Uncommon words between the two strings: {'jumps', 'windowsill.', 'brown', 'over', 'cat', 'on', 'dog.', 'sleeps', 'quick', 'fox'}\n"
     ]
    }
   ],
   "source": [
    "def find_uncommon_words(string1, string2):\n",
    "    # Using set to store unique words from each string\n",
    "    words_set1 = set(string1.split())\n",
    "    words_set2 = set(string2.split())\n",
    "    \n",
    "    # Using symmetric difference to find uncommon words\n",
    "    uncommon_words = words_set1.symmetric_difference(words_set2)\n",
    "    \n",
    "    return uncommon_words\n",
    "\n",
    "# Input from the user\n",
    "string1 = input(\"Enter the first string: \")\n",
    "string2 = input(\"Enter the second string: \")\n",
    "\n",
    "# Find uncommon words from the two strings\n",
    "result_uncommon_words = find_uncommon_words(string1, string2)\n",
    "\n",
    "# Display the result\n",
    "print(\"Uncommon words between the two strings:\", result_uncommon_words)\n"
   ]
  },
  {
   "cell_type": "markdown",
   "id": "e2b24677",
   "metadata": {},
   "source": [
    "### 6. Write a Python to find all duplicate characters in string?"
   ]
  },
  {
   "cell_type": "code",
   "execution_count": 8,
   "id": "78438e26-dd90-43e7-84f3-faf422daf6ff",
   "metadata": {
    "tags": []
   },
   "outputs": [
    {
     "name": "stdin",
     "output_type": "stream",
     "text": [
      "Enter a string:  text test\n"
     ]
    },
    {
     "name": "stdout",
     "output_type": "stream",
     "text": [
      "Duplicate characters in the string: ['t', 'e']\n"
     ]
    }
   ],
   "source": [
    "def find_duplicate_characters(input_string):\n",
    "    # Using a dictionary to store character counts\n",
    "    char_count = {}\n",
    "    duplicate_characters = set()\n",
    "\n",
    "    # Iterate through each character in the string\n",
    "    for char in input_string:\n",
    "        # Increment the count for each character\n",
    "        char_count[char] = char_count.get(char, 0) + 1\n",
    "\n",
    "        # Check if the character is a duplicate\n",
    "        if char_count[char] > 1:\n",
    "            duplicate_characters.add(char)\n",
    "\n",
    "    return list(duplicate_characters)\n",
    "\n",
    "# Input from the user\n",
    "input_string = input(\"Enter a string: \")\n",
    "\n",
    "# Find duplicate characters in the string\n",
    "result_duplicate_characters = find_duplicate_characters(input_string)\n",
    "\n",
    "# Display the result\n",
    "if result_duplicate_characters:\n",
    "    print(\"Duplicate characters in the string:\", result_duplicate_characters)\n",
    "else:\n",
    "    print(\"No duplicate characters found in the string.\")\n"
   ]
  },
  {
   "cell_type": "markdown",
   "id": "1a6af7e4",
   "metadata": {},
   "source": [
    "### 7. Write a Python Program to check if a string contains any special character?"
   ]
  },
  {
   "cell_type": "code",
   "execution_count": 9,
   "id": "35ac979d-ce27-4b33-9046-0fdf0e41ff31",
   "metadata": {
    "tags": []
   },
   "outputs": [
    {
     "name": "stdin",
     "output_type": "stream",
     "text": [
      "Enter a string:  123@abc#456\n"
     ]
    },
    {
     "name": "stdout",
     "output_type": "stream",
     "text": [
      "The string contains special characters.\n"
     ]
    }
   ],
   "source": [
    "def contains_special_character(input_string):\n",
    "    # Define a string of special characters\n",
    "    special_characters = \"!@#$%^&*()-_+=[]{}|;:'\\\",.<>?/\"\n",
    "    \n",
    "    # Check if any character in the input string is a special character\n",
    "    for char in input_string:\n",
    "        if char in special_characters:\n",
    "            return True\n",
    "    \n",
    "    # No special characters found\n",
    "    return False\n",
    "\n",
    "# Input from the user\n",
    "input_string = input(\"Enter a string: \")\n",
    "\n",
    "# Check if the string contains any special characters\n",
    "result = contains_special_character(input_string)\n",
    "\n",
    "# Display the result\n",
    "if result:\n",
    "    print(\"The string contains special characters.\")\n",
    "else:\n",
    "    print(\"The string does not contain any special characters.\")\n"
   ]
  },
  {
   "cell_type": "code",
   "execution_count": null,
   "id": "12d93205-d2fa-4f7f-b3ca-809679ba938a",
   "metadata": {},
   "outputs": [],
   "source": []
  }
 ],
 "metadata": {
  "kernelspec": {
   "display_name": "Python 3 (ipykernel)",
   "language": "python",
   "name": "python3"
  },
  "language_info": {
   "codemirror_mode": {
    "name": "ipython",
    "version": 3
   },
   "file_extension": ".py",
   "mimetype": "text/x-python",
   "name": "python",
   "nbconvert_exporter": "python",
   "pygments_lexer": "ipython3",
   "version": "3.11.4"
  }
 },
 "nbformat": 4,
 "nbformat_minor": 5
}
