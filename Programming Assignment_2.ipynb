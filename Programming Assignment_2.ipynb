{
 "cells": [
  {
   "cell_type": "markdown",
   "id": "08c66ea5",
   "metadata": {
    "id": "08c66ea5"
   },
   "source": [
    "## Programming Assignment_2\n",
    "-------------"
   ]
  },
  {
   "cell_type": "markdown",
   "id": "4e50cf42",
   "metadata": {
    "id": "4e50cf42"
   },
   "source": [
    "<h3>1. Write a Python program to convert kilometers to miles?</h3>"
   ]
  },
  {
   "cell_type": "code",
   "execution_count": 4,
   "id": "3e28ceae-c999-48ad-b52f-19455f12a961",
   "metadata": {
    "tags": []
   },
   "outputs": [],
   "source": [
    "def Kilo_miles (a):\n",
    "    c=a*0.621371\n",
    "    return c\n"
   ]
  },
  {
   "cell_type": "code",
   "execution_count": 5,
   "id": "10fe77c6-c131-4737-8b47-6088023c3b8b",
   "metadata": {
    "tags": []
   },
   "outputs": [
    {
     "data": {
      "text/plain": [
       "6.21371"
      ]
     },
     "execution_count": 5,
     "metadata": {},
     "output_type": "execute_result"
    }
   ],
   "source": [
    "Kilo_miles(10)"
   ]
  },
  {
   "cell_type": "markdown",
   "id": "0df4e6bf",
   "metadata": {
    "id": "0df4e6bf"
   },
   "source": [
    "### 2.Write a Python program to convert Celsius to Fahrenheit?"
   ]
  },
  {
   "cell_type": "code",
   "execution_count": 6,
   "id": "c355dc49-c0e3-4452-85ac-3ffb0991d46a",
   "metadata": {
    "id": "Q-iUx4CQoppc",
    "tags": []
   },
   "outputs": [],
   "source": [
    "def celsius_fahrenheit(celsius):\n",
    "    fahrenheit = (celsius * 9/5) + 32\n",
    "    return fahrenheit\n",
    "    "
   ]
  },
  {
   "cell_type": "code",
   "execution_count": 7,
   "id": "5e6217b7-a01a-46fb-b57d-edf676899a65",
   "metadata": {
    "tags": []
   },
   "outputs": [
    {
     "data": {
      "text/plain": [
       "50.0"
      ]
     },
     "execution_count": 7,
     "metadata": {},
     "output_type": "execute_result"
    }
   ],
   "source": [
    "celsius_fahrenheit(10)"
   ]
  },
  {
   "cell_type": "markdown",
   "id": "46129b8e",
   "metadata": {
    "id": "46129b8e"
   },
   "source": [
    "<h3>3. Write a Python program to display calendar?</h3>"
   ]
  },
  {
   "cell_type": "code",
   "execution_count": 8,
   "id": "f9dad493-c19b-4d7a-af1b-c54953329665",
   "metadata": {
    "tags": []
   },
   "outputs": [
    {
     "name": "stdout",
     "output_type": "stream",
     "text": [
      "Calendar for December 2023\n",
      "Mo Tu We Th Fr Sa Su\n",
      "             1  2  3 \n",
      " 4  5  6  7  8  9 10 \n",
      "11 12 13 14 15 16 17 \n",
      "18 19 20 21 22 23 24 \n",
      "25 26 27 28 29 30 31 \n"
     ]
    }
   ],
   "source": [
    "import calendar\n",
    "\n",
    "def display_calendar(year, month):\n",
    "    # Generate the calendar for the specified year and month\n",
    "    cal = calendar.monthcalendar(year, month)\n",
    "    \n",
    "    # Display the calendar\n",
    "    print(f\"Calendar for {calendar.month_name[month]} {year}\")\n",
    "    print(\"Mo Tu We Th Fr Sa Su\")\n",
    "    \n",
    "    for week in cal:\n",
    "        for day in week:\n",
    "            if day == 0:\n",
    "                print(\"   \", end=\"\")  # Print three spaces for days outside the month\n",
    "            else:\n",
    "                print(f\"{day:2} \", end=\"\")\n",
    "        print()  # Move to the next line after printing a week\n",
    "\n",
    "# Example: Display the calendar for December 2023\n",
    "display_calendar(2023, 12)\n"
   ]
  },
  {
   "cell_type": "code",
   "execution_count": null,
   "id": "bc1ca98b-9fa7-4679-8090-a440314ee6b4",
   "metadata": {},
   "outputs": [],
   "source": []
  },
  {
   "cell_type": "markdown",
   "id": "db2bf0f7",
   "metadata": {
    "id": "db2bf0f7",
    "tags": []
   },
   "source": [
    "### 4. Write a Python program to solve quadratic equation?"
   ]
  },
  {
   "cell_type": "code",
   "execution_count": 9,
   "id": "2f610fd5-86e8-48ae-aaa0-1327ffb846c3",
   "metadata": {
    "tags": []
   },
   "outputs": [
    {
     "name": "stdout",
     "output_type": "stream",
     "text": [
      "The roots of the quadratic equation are: ((2+0j), (2+0j))\n"
     ]
    }
   ],
   "source": [
    "import cmath \n",
    "\n",
    "def solve_quadratic_equation(a, b, c):\n",
    "    # Calculate the discriminant\n",
    "    discriminant = cmath.sqrt(b**2 - 4*a*c)\n",
    "    \n",
    "    # Calculate the two roots using the quadratic formula\n",
    "    root1 = (-b + discriminant) / (2*a)\n",
    "    root2 = (-b - discriminant) / (2*a)\n",
    "    \n",
    "    return root1, root2\n",
    "\n",
    "# Example: Solve the quadratic equation x^2 - 4x + 4 = 0\n",
    "a = 1\n",
    "b = -4\n",
    "c = 4\n",
    "\n",
    "roots = solve_quadratic_equation(a, b, c)\n",
    "print(f\"The roots of the quadratic equation are: {roots}\")\n"
   ]
  },
  {
   "cell_type": "markdown",
   "id": "347d558b-67df-44d1-9784-876310280bea",
   "metadata": {
    "id": "f70f74c9",
    "tags": []
   },
   "source": [
    "### 5. Write a Python program to swap two variables without temp variable?"
   ]
  },
  {
   "cell_type": "code",
   "execution_count": 10,
   "id": "5071d5e1-bbd1-4749-88fe-7172ab498f57",
   "metadata": {
    "tags": []
   },
   "outputs": [
    {
     "name": "stdout",
     "output_type": "stream",
     "text": [
      "After swapping: x = 10 , y = 5\n"
     ]
    }
   ],
   "source": [
    "def swap_without_temp(a, b):\n",
    "    a, b = b, a\n",
    "    return a, b\n",
    "\n",
    "# Example:\n",
    "x = 5\n",
    "y = 10\n",
    "x, y = swap_without_temp(x, y)\n",
    "\n",
    "print(\"After swapping: x =\", x, \", y =\", y)\n"
   ]
  },
  {
   "cell_type": "code",
   "execution_count": null,
   "id": "a00e74aa-d5ee-4eca-b476-1eb9f49aabaf",
   "metadata": {},
   "outputs": [],
   "source": []
  }
 ],
 "metadata": {
  "colab": {
   "provenance": []
  },
  "kernelspec": {
   "display_name": "Python 3 (ipykernel)",
   "language": "python",
   "name": "python3"
  },
  "language_info": {
   "codemirror_mode": {
    "name": "ipython",
    "version": 3
   },
   "file_extension": ".py",
   "mimetype": "text/x-python",
   "name": "python",
   "nbconvert_exporter": "python",
   "pygments_lexer": "ipython3",
   "version": "3.11.4"
  }
 },
 "nbformat": 4,
 "nbformat_minor": 5
}
