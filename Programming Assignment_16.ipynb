{
 "cells": [
  {
   "cell_type": "markdown",
   "id": "e304dc88",
   "metadata": {},
   "source": [
    "## Python Basic Programming Assignment 16\n",
    "---------------------"
   ]
  },
  {
   "cell_type": "markdown",
   "id": "d82eeee0",
   "metadata": {},
   "source": [
    "### 1. Write a function that stutters a word as if someone is struggling to read it. The first two letters are repeated twice with an ellipsis ... and space after each, and then the word is pronounced with a question mark ?. Examples stutter('incredible') ➞ 'in... in... incredible?' stutter('enthusiastic') ➞ 'en... en... enthusiastic?' stutter('outstanding') ➞ 'ou... ou... outstanding?'\n",
    "\n",
    "### Hint :- Assume all input is in lower case and at least two characters long."
   ]
  },
  {
   "cell_type": "code",
   "execution_count": 1,
   "id": "15455258-253c-44e9-a2e1-e7691eb4b618",
   "metadata": {
    "tags": []
   },
   "outputs": [
    {
     "name": "stdout",
     "output_type": "stream",
     "text": [
      "in... in... incredible?\n",
      "en... en... enthusiastic?\n",
      "ou... ou... outstanding?\n"
     ]
    }
   ],
   "source": [
    "def stutter(word):\n",
    "    if len(word) >= 2:\n",
    "        stuttered_word = f\"{word[:2]}... {word[:2]}... {word}?\"\n",
    "        return stuttered_word\n",
    "    else:\n",
    "        return \"Word should be at least two characters long.\"\n",
    "\n",
    "# Examples\n",
    "print(stutter('incredible'))    # Output: 'in... in... incredible?'\n",
    "print(stutter('enthusiastic'))   # Output: 'en... en... enthusiastic?'\n",
    "print(stutter('outstanding'))    # Output: 'ou... ou... outstanding?'\n"
   ]
  },
  {
   "cell_type": "markdown",
   "id": "47e1bd41",
   "metadata": {},
   "source": [
    "\n",
    "### 2. Create a function that takes an angle in radians and returns the corresponding angle in degrees rounded to one decimal place."
   ]
  },
  {
   "cell_type": "code",
   "execution_count": 2,
   "id": "a724ff97-6caf-4138-8cdc-c9f2b639e317",
   "metadata": {
    "tags": []
   },
   "outputs": [
    {
     "name": "stdout",
     "output_type": "stream",
     "text": [
      "2.5 radians is approximately 143.2 degrees.\n"
     ]
    }
   ],
   "source": [
    "import math\n",
    "\n",
    "def radians_to_degrees(angle_in_radians):\n",
    "    # Convert radians to degrees and round to one decimal place\n",
    "    angle_in_degrees = math.degrees(angle_in_radians)\n",
    "    rounded_angle = round(angle_in_degrees, 1)\n",
    "    return rounded_angle\n",
    "\n",
    "# Example\n",
    "angle_in_radians = 2.5\n",
    "angle_in_degrees = radians_to_degrees(angle_in_radians)\n",
    "print(f\"{angle_in_radians} radians is approximately {angle_in_degrees} degrees.\")\n"
   ]
  },
  {
   "cell_type": "markdown",
   "id": "07cad4d9",
   "metadata": {},
   "source": [
    "\n",
    "### 3. In this challenge, establish if a given integer num is a Curzon number. If 1 plus 2 elevated to num is exactly divisible by 1 plus 2 multiplied by num, then num is a Curzon number. Given a non-negative integer num, implement a function that returns True if num is a Curzon number, or False otherwise."
   ]
  },
  {
   "cell_type": "code",
   "execution_count": 3,
   "id": "dc857536-bfa7-4f14-8d3a-67d1986de0c7",
   "metadata": {
    "tags": []
   },
   "outputs": [
    {
     "name": "stdout",
     "output_type": "stream",
     "text": [
      "Is 5 a Curzon number? True\n",
      "Is 10 a Curzon number? False\n"
     ]
    }
   ],
   "source": [
    "def is_curzon_number(num):\n",
    "    numerator = 2 ** num + 1\n",
    "    denominator = 2 * num + 1\n",
    "\n",
    "    return numerator % denominator == 0\n",
    "\n",
    "# Example usage\n",
    "num1 = 5\n",
    "num2 = 10\n",
    "\n",
    "print(f\"Is {num1} a Curzon number? {is_curzon_number(num1)}\")  # Output: True\n",
    "print(f\"Is {num2} a Curzon number? {is_curzon_number(num2)}\")  # Output: False\n"
   ]
  },
  {
   "cell_type": "markdown",
   "id": "cfad2cfc",
   "metadata": {},
   "source": [
    "\n",
    "### 4. Given the side length x find the area of a hexagon."
   ]
  },
  {
   "cell_type": "code",
   "execution_count": 4,
   "id": "a7c43835-1f1d-4655-9a33-e2b2cf605953",
   "metadata": {
    "tags": []
   },
   "outputs": [
    {
     "name": "stdout",
     "output_type": "stream",
     "text": [
      "The area of a hexagon with side length 5 is: 64.9519052838329\n"
     ]
    }
   ],
   "source": [
    "import math\n",
    "\n",
    "def area_of_hexagon(side_length):\n",
    "    area = (3 * math.sqrt(3) / 2) * side_length**2\n",
    "    return area\n",
    "\n",
    "# Example usage\n",
    "side_length = 5\n",
    "hexagon_area = area_of_hexagon(side_length)\n",
    "print(f\"The area of a hexagon with side length {side_length} is: {hexagon_area}\")\n"
   ]
  },
  {
   "cell_type": "markdown",
   "id": "dbc79e02",
   "metadata": {},
   "source": [
    "\n",
    "### 5. Create a function that returns a base-2 (binary) representation of a base-10 (decimal) string number. To convert is simple: ((2) means base-2 and (10) means base-10) 010101001(2) = 1 + 8 + 32 + 128."
   ]
  },
  {
   "cell_type": "code",
   "execution_count": 5,
   "id": "50fdeedd-66fc-4b28-8010-224525988fd2",
   "metadata": {
    "tags": []
   },
   "outputs": [
    {
     "name": "stdout",
     "output_type": "stream",
     "text": [
      "The binary representation of 42 is: 101010\n"
     ]
    }
   ],
   "source": [
    "def decimal_to_binary(decimal_number):\n",
    "    binary_representation = bin(decimal_number)[2:]  # Remove the '0b' prefix\n",
    "    return binary_representation\n",
    "\n",
    "# Example usage\n",
    "decimal_number = 42\n",
    "binary_representation = decimal_to_binary(decimal_number)\n",
    "print(f\"The binary representation of {decimal_number} is: {binary_representation}\")\n"
   ]
  },
  {
   "cell_type": "code",
   "execution_count": null,
   "id": "8fd6d47f-6076-4185-a357-3354c847a905",
   "metadata": {},
   "outputs": [],
   "source": []
  }
 ],
 "metadata": {
  "kernelspec": {
   "display_name": "Python 3 (ipykernel)",
   "language": "python",
   "name": "python3"
  },
  "language_info": {
   "codemirror_mode": {
    "name": "ipython",
    "version": 3
   },
   "file_extension": ".py",
   "mimetype": "text/x-python",
   "name": "python",
   "nbconvert_exporter": "python",
   "pygments_lexer": "ipython3",
   "version": "3.11.4"
  }
 },
 "nbformat": 4,
 "nbformat_minor": 5
}
