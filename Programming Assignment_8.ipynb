{
 "cells": [
  {
   "cell_type": "markdown",
   "id": "9b304197",
   "metadata": {},
   "source": [
    "# Python Basic Programming Assignment 8"
   ]
  },
  {
   "cell_type": "markdown",
   "id": "22789ae6",
   "metadata": {},
   "source": [
    "### 1. Write a Python Program to Add Two Matrices?"
   ]
  },
  {
   "cell_type": "code",
   "execution_count": 1,
   "id": "dff870ab-8699-4837-8708-88bedbf39778",
   "metadata": {
    "tags": []
   },
   "outputs": [
    {
     "name": "stdin",
     "output_type": "stream",
     "text": [
      "Enter the number of rows for matrices:  3\n",
      "Enter the number of columns for matrices:  3\n"
     ]
    },
    {
     "name": "stdout",
     "output_type": "stream",
     "text": [
      "Enter elements for matrix 1:\n"
     ]
    },
    {
     "name": "stdin",
     "output_type": "stream",
     "text": [
      "Enter element at position (1, 1):  1\n",
      "Enter element at position (1, 2):  2\n",
      "Enter element at position (1, 3):  4\n",
      "Enter element at position (2, 1):  0\n",
      "Enter element at position (2, 2):  9\n",
      "Enter element at position (2, 3):  7\n",
      "Enter element at position (3, 1):  10\n",
      "Enter element at position (3, 2):  -4\n",
      "Enter element at position (3, 3):  3\n"
     ]
    },
    {
     "name": "stdout",
     "output_type": "stream",
     "text": [
      "Enter elements for matrix 2:\n"
     ]
    },
    {
     "name": "stdin",
     "output_type": "stream",
     "text": [
      "Enter element at position (1, 1):  2\n",
      "Enter element at position (1, 2):  0\n",
      "Enter element at position (1, 3):  0\n",
      "Enter element at position (2, 1):  3\n",
      "Enter element at position (2, 2):  5\n",
      "Enter element at position (2, 3):  -4\n",
      "Enter element at position (3, 1):  10\n",
      "Enter element at position (3, 2):  2\n",
      "Enter element at position (3, 3):  9\n"
     ]
    },
    {
     "name": "stdout",
     "output_type": "stream",
     "text": [
      "Matrix 1:\n",
      "[1, 2, 4]\n",
      "[0, 9, 7]\n",
      "[10, -4, 3]\n",
      "Matrix 2:\n",
      "[2, 0, 0]\n",
      "[3, 5, -4]\n",
      "[10, 2, 9]\n",
      "Sum of the matrices:\n",
      "[3, 2, 4]\n",
      "[3, 14, 3]\n",
      "[20, -2, 12]\n"
     ]
    }
   ],
   "source": [
    "def add_matrices(matrix1, matrix2):\n",
    "    if len(matrix1) != len(matrix2) or len(matrix1[0]) != len(matrix2[0]):\n",
    "        return \"Matrices should have the same dimensions for addition.\"\n",
    "\n",
    "    result_matrix = [[0 for _ in range(len(matrix1[0]))] for _ in range(len(matrix1))]\n",
    "\n",
    "    for i in range(len(matrix1)):\n",
    "        for j in range(len(matrix1[0])):\n",
    "            result_matrix[i][j] = matrix1[i][j] + matrix2[i][j]\n",
    "\n",
    "    return result_matrix\n",
    "\n",
    "# Input from the user\n",
    "rows = int(input(\"Enter the number of rows for matrices: \"))\n",
    "columns = int(input(\"Enter the number of columns for matrices: \"))\n",
    "\n",
    "print(\"Enter elements for matrix 1:\")\n",
    "matrix1 = [[int(input(f\"Enter element at position ({i+1}, {j+1}): \")) for j in range(columns)] for i in range(rows)]\n",
    "\n",
    "print(\"Enter elements for matrix 2:\")\n",
    "matrix2 = [[int(input(f\"Enter element at position ({i+1}, {j+1}): \")) for j in range(columns)] for i in range(rows)]\n",
    "\n",
    "# Add the matrices\n",
    "result_matrix = add_matrices(matrix1, matrix2)\n",
    "\n",
    "# Display the result\n",
    "print(\"Matrix 1:\")\n",
    "for row in matrix1:\n",
    "    print(row)\n",
    "\n",
    "print(\"Matrix 2:\")\n",
    "for row in matrix2:\n",
    "    print(row)\n",
    "\n",
    "print(\"Sum of the matrices:\")\n",
    "for row in result_matrix:\n",
    "    print(row)\n"
   ]
  },
  {
   "cell_type": "code",
   "execution_count": 2,
   "id": "6d2d0815-e521-40ae-ae63-053d5722fabf",
   "metadata": {
    "tags": []
   },
   "outputs": [
    {
     "name": "stdout",
     "output_type": "stream",
     "text": [
      "Row wise summation of matrix1 for 1 row: 7\n",
      "Column wise summation of matrix1 for 1 column: 11\n",
      "Row wise summation of matrix1 for 2 row: 16\n",
      "Column wise summation of matrix1 for 2 column: 7\n",
      "Row wise summation of matrix1 for 3 row: 9\n",
      "Column wise summation of matrix1 for 3 column: 14\n"
     ]
    }
   ],
   "source": [
    "for i in range(len(matrix1)):\n",
    "    row_sum = 0\n",
    "    col_sum = 0\n",
    "    for j in range(len(matrix1[0])):\n",
    "        row_sum += matrix1[i][j]\n",
    "        col_sum += matrix1[j][i]\n",
    "    print(f\"Row wise summation of matrix1 for {i+1} row: {row_sum}\")\n",
    "    print(f\"Column wise summation of matrix1 for {i+1} column: {col_sum}\")\n",
    "        "
   ]
  },
  {
   "cell_type": "markdown",
   "id": "044ceda6",
   "metadata": {},
   "source": [
    "### 2. Write a Python Program to Multiply Two Matrices?"
   ]
  },
  {
   "cell_type": "code",
   "execution_count": 3,
   "id": "572b7b33-92b6-416a-9f14-325c176c8629",
   "metadata": {
    "tags": []
   },
   "outputs": [
    {
     "name": "stdin",
     "output_type": "stream",
     "text": [
      "Enter the number of rows for matrix 1:  3\n",
      "Enter the number of columns for matrix 1:  4\n"
     ]
    },
    {
     "name": "stdout",
     "output_type": "stream",
     "text": [
      "Enter elements for matrix 1:\n"
     ]
    },
    {
     "name": "stdin",
     "output_type": "stream",
     "text": [
      "Enter element at position (1, 1):  1\n",
      "Enter element at position (1, 2):  2\n",
      "Enter element at position (1, 3):  5\n",
      "Enter element at position (1, 4):  0\n",
      "Enter element at position (2, 1):  8\n",
      "Enter element at position (2, 2):  -6\n",
      "Enter element at position (2, 3):  -4\n",
      "Enter element at position (2, 4):  -5\n",
      "Enter element at position (3, 1):  3\n",
      "Enter element at position (3, 2):  7\n",
      "Enter element at position (3, 3):  3\n",
      "Enter element at position (3, 4):  1\n",
      "Enter the number of rows for matrix 2:  4\n",
      "Enter the number of columns for matrix 2:  2\n"
     ]
    },
    {
     "name": "stdout",
     "output_type": "stream",
     "text": [
      "Enter elements for matrix 2:\n"
     ]
    },
    {
     "name": "stdin",
     "output_type": "stream",
     "text": [
      "Enter element at position (1, 1):  2\n",
      "Enter element at position (1, 2):  5\n",
      "Enter element at position (2, 1):  0\n",
      "Enter element at position (2, 2):  6\n",
      "Enter element at position (3, 1):  3\n",
      "Enter element at position (3, 2):  1\n",
      "Enter element at position (4, 1):  8\n",
      "Enter element at position (4, 2):  6\n"
     ]
    },
    {
     "name": "stdout",
     "output_type": "stream",
     "text": [
      "Matrix 1:\n",
      "[1, 2, 5, 0]\n",
      "[8, -6, -4, -5]\n",
      "[3, 7, 3, 1]\n",
      "Matrix 2:\n",
      "[2, 5]\n",
      "[0, 6]\n",
      "[3, 1]\n",
      "[8, 6]\n",
      "Product of the matrices:\n",
      "[17, 22]\n",
      "[-36, -30]\n",
      "[23, 66]\n"
     ]
    }
   ],
   "source": [
    "def multiply_matrices(matrix1, matrix2):\n",
    "    if len(matrix1[0]) != len(matrix2):\n",
    "        return \"Invalid dimensions for matrix multiplication.\"\n",
    "\n",
    "    result_matrix = [[0 for _ in range(len(matrix2[0]))] for _ in range(len(matrix1))]\n",
    "\n",
    "    for i in range(len(matrix1)):\n",
    "        for j in range(len(matrix2[0])):\n",
    "            for k in range(len(matrix2)):\n",
    "                result_matrix[i][j] += matrix1[i][k] * matrix2[k][j]\n",
    "\n",
    "    return result_matrix\n",
    "\n",
    "# Input from the user\n",
    "rows1 = int(input(\"Enter the number of rows for matrix 1: \"))\n",
    "cols1 = int(input(\"Enter the number of columns for matrix 1: \"))\n",
    "\n",
    "print(\"Enter elements for matrix 1:\")\n",
    "matrix1 = [[int(input(f\"Enter element at position ({i+1}, {j+1}): \")) for j in range(cols1)] for i in range(rows1)]\n",
    "\n",
    "rows2 = int(input(\"Enter the number of rows for matrix 2: \"))\n",
    "cols2 = int(input(\"Enter the number of columns for matrix 2: \"))\n",
    "\n",
    "print(\"Enter elements for matrix 2:\")\n",
    "matrix2 = [[int(input(f\"Enter element at position ({i+1}, {j+1}): \")) for j in range(cols2)] for i in range(rows2)]\n",
    "\n",
    "# Multiply the matrices\n",
    "result_matrix = multiply_matrices(matrix1, matrix2)\n",
    "\n",
    "# Display the result\n",
    "print(\"Matrix 1:\")\n",
    "for row in matrix1:\n",
    "    print(row)\n",
    "\n",
    "print(\"Matrix 2:\")\n",
    "for row in matrix2:\n",
    "    print(row)\n",
    "\n",
    "print(\"Product of the matrices:\")\n",
    "for row in result_matrix:\n",
    "    print(row)\n"
   ]
  },
  {
   "cell_type": "code",
   "execution_count": null,
   "id": "29cf33d2-0718-43b0-aef8-968ef68e189a",
   "metadata": {},
   "outputs": [],
   "source": []
  },
  {
   "cell_type": "markdown",
   "id": "5f688e46",
   "metadata": {},
   "source": [
    "### 3. Write a Python Program to Transpose a Matrix?"
   ]
  },
  {
   "cell_type": "code",
   "execution_count": 4,
   "id": "91586f1a-e23d-466d-a630-7788d96ec684",
   "metadata": {
    "tags": []
   },
   "outputs": [
    {
     "name": "stdin",
     "output_type": "stream",
     "text": [
      "Enter the number of rows for the matrix:  3\n",
      "Enter the number of columns for the matrix:  4\n"
     ]
    },
    {
     "name": "stdout",
     "output_type": "stream",
     "text": [
      "Enter elements for the matrix:\n"
     ]
    },
    {
     "name": "stdin",
     "output_type": "stream",
     "text": [
      "Enter element at position (1, 1):  2\n",
      "Enter element at position (1, 2):  3\n",
      "Enter element at position (1, 3):  4\n",
      "Enter element at position (1, 4):  6\n",
      "Enter element at position (2, 1):  2\n",
      "Enter element at position (2, 2):  3\n",
      "Enter element at position (2, 3):  6\n",
      "Enter element at position (2, 4):  8\n",
      "Enter element at position (3, 1):  5\n",
      "Enter element at position (3, 2):  2\n",
      "Enter element at position (3, 3):  6\n",
      "Enter element at position (3, 4):  8\n"
     ]
    },
    {
     "name": "stdout",
     "output_type": "stream",
     "text": [
      "Original Matrix:\n",
      "[2, 3, 4, 6]\n",
      "[2, 3, 6, 8]\n",
      "[5, 2, 6, 8]\n",
      "Transposed Matrix:\n",
      "[2, 2, 5]\n",
      "[3, 3, 2]\n",
      "[4, 6, 6]\n",
      "[6, 8, 8]\n"
     ]
    }
   ],
   "source": [
    "def transpose_matrix(matrix):\n",
    "    rows = len(matrix)\n",
    "    cols = len(matrix[0])\n",
    "\n",
    "    # Create a new matrix with swapped rows and columns\n",
    "    transposed_matrix = [[matrix[j][i] for j in range(rows)] for i in range(cols)]\n",
    "\n",
    "    return transposed_matrix\n",
    "\n",
    "# Input from the user\n",
    "rows = int(input(\"Enter the number of rows for the matrix: \"))\n",
    "cols = int(input(\"Enter the number of columns for the matrix: \"))\n",
    "\n",
    "print(\"Enter elements for the matrix:\")\n",
    "matrix = [[int(input(f\"Enter element at position ({i+1}, {j+1}): \")) for j in range(cols)] for i in range(rows)]\n",
    "\n",
    "# Transpose the matrix\n",
    "transposed_result = transpose_matrix(matrix)\n",
    "\n",
    "# Display the result\n",
    "print(\"Original Matrix:\")\n",
    "for row in matrix:\n",
    "    print(row)\n",
    "\n",
    "print(\"Transposed Matrix:\")\n",
    "for row in transposed_result:\n",
    "    print(row)\n"
   ]
  },
  {
   "cell_type": "code",
   "execution_count": null,
   "id": "9b8af1df-d5f7-48ee-9953-dd39b86a7bae",
   "metadata": {},
   "outputs": [],
   "source": []
  },
  {
   "cell_type": "markdown",
   "id": "b2849025",
   "metadata": {},
   "source": [
    "\n",
    "### 4. Write a Python Program to Sort Words in Alphabetic Order?\n"
   ]
  },
  {
   "cell_type": "code",
   "execution_count": 5,
   "id": "e03c1378-72eb-48db-a382-651a943248d9",
   "metadata": {
    "tags": []
   },
   "outputs": [
    {
     "name": "stdin",
     "output_type": "stream",
     "text": [
      "Enter a sentence:  the five boxing wizards jump quickly\n"
     ]
    },
    {
     "name": "stdout",
     "output_type": "stream",
     "text": [
      "Original Sentence: the five boxing wizards jump quickly\n",
      "Sentence with Words Sorted Alphabetically: boxing five jump quickly the wizards\n"
     ]
    }
   ],
   "source": [
    "def sort_words_alphabetically(sentence):\n",
    "    words = sentence.split()\n",
    "    sorted_words = sorted(words)\n",
    "    sorted_sentence = ' '.join(sorted_words)\n",
    "    return sorted_sentence\n",
    "\n",
    "# Input from the user\n",
    "input_sentence = input(\"Enter a sentence: \")\n",
    "\n",
    "# Sort words in alphabetical order\n",
    "sorted_result = sort_words_alphabetically(input_sentence)\n",
    "\n",
    "# Display the result\n",
    "print(\"Original Sentence:\", input_sentence)\n",
    "print(\"Sentence with Words Sorted Alphabetically:\", sorted_result)\n"
   ]
  },
  {
   "cell_type": "code",
   "execution_count": null,
   "id": "4154720a-a87c-4afb-b9a3-c661e6701f97",
   "metadata": {},
   "outputs": [],
   "source": []
  },
  {
   "cell_type": "markdown",
   "id": "48ac7b24",
   "metadata": {},
   "source": [
    "### 5. Write a Python Program to Remove Punctuation From a String?"
   ]
  },
  {
   "cell_type": "code",
   "execution_count": 6,
   "id": "28982878-9351-4d5d-964c-71ec8b44ba46",
   "metadata": {
    "tags": []
   },
   "outputs": [
    {
     "name": "stdin",
     "output_type": "stream",
     "text": [
      "Enter a string with punctuation:  This is an example sentence with some punctuation! How's it going? I hope everything is well.\n"
     ]
    },
    {
     "name": "stdout",
     "output_type": "stream",
     "text": [
      "Original String: This is an example sentence with some punctuation! How's it going? I hope everything is well.\n",
      "String without Punctuation: This is an example sentence with some punctuation Hows it going I hope everything is well\n"
     ]
    }
   ],
   "source": [
    "import string\n",
    "\n",
    "def remove_punctuation(input_string):\n",
    "    # Using string.punctuation to get the set of all punctuation characters\n",
    "    translator = str.maketrans('', '', string.punctuation)\n",
    "    result_string = input_string.translate(translator)\n",
    "    return result_string\n",
    "\n",
    "# Input from the user\n",
    "input_string = input(\"Enter a string with punctuation: \")\n",
    "\n",
    "# Remove punctuation\n",
    "result_without_punctuation = remove_punctuation(input_string)\n",
    "\n",
    "# Display the result\n",
    "print(\"Original String:\", input_string)\n",
    "print(\"String without Punctuation:\", result_without_punctuation)\n"
   ]
  },
  {
   "cell_type": "code",
   "execution_count": null,
   "id": "c850a06e-af9b-4030-91e8-56c6a8719f37",
   "metadata": {},
   "outputs": [],
   "source": []
  }
 ],
 "metadata": {
  "kernelspec": {
   "display_name": "Python 3 (ipykernel)",
   "language": "python",
   "name": "python3"
  },
  "language_info": {
   "codemirror_mode": {
    "name": "ipython",
    "version": 3
   },
   "file_extension": ".py",
   "mimetype": "text/x-python",
   "name": "python",
   "nbconvert_exporter": "python",
   "pygments_lexer": "ipython3",
   "version": "3.11.4"
  }
 },
 "nbformat": 4,
 "nbformat_minor": 5
}
