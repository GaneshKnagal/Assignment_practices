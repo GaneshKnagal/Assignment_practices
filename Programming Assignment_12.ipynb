{
 "cells": [
  {
   "cell_type": "markdown",
   "id": "b7231b20",
   "metadata": {},
   "source": [
    "# Python Basic Programming Assignment 12\n",
    "-------------"
   ]
  },
  {
   "cell_type": "markdown",
   "id": "d2ec324d",
   "metadata": {},
   "source": [
    "### 1. Write a Python program to Extract Unique values dictionary values?"
   ]
  },
  {
   "cell_type": "code",
   "execution_count": 1,
   "id": "696f13d2-e33a-4f20-ade3-9fa189299c13",
   "metadata": {
    "tags": []
   },
   "outputs": [
    {
     "name": "stdin",
     "output_type": "stream",
     "text": [
      "Enter a dictionary:  {'a': [1, 2, 3], 'b': 2, 'c': (3, 4, 5), 'd': 'hello', 'e': [1, 2, 3]}\n"
     ]
    },
    {
     "name": "stdout",
     "output_type": "stream",
     "text": [
      "Unique values from dictionary values: [1, 2, 3, 4, 5, 'hello']\n"
     ]
    }
   ],
   "source": [
    "def extract_unique_values(input_dict):\n",
    "    # Using a set to store unique values\n",
    "    unique_values = set()\n",
    "\n",
    "    # Iterate through values of the dictionary\n",
    "    for values in input_dict.values():\n",
    "        # If the value is iterable (like a list or tuple), extend the set\n",
    "        if isinstance(values, (list, tuple)):\n",
    "            unique_values.update(values)\n",
    "        else:\n",
    "            unique_values.add(values)\n",
    "\n",
    "    return list(unique_values)\n",
    "\n",
    "# Input from the user (dictionary)\n",
    "input_dict = eval(input(\"Enter a dictionary: \"))\n",
    "\n",
    "# Extract unique values from dictionary values\n",
    "result_unique_values = extract_unique_values(input_dict)\n",
    "\n",
    "# Display the result\n",
    "print(\"Unique values from dictionary values:\", result_unique_values)\n"
   ]
  },
  {
   "cell_type": "markdown",
   "id": "203bcbc3",
   "metadata": {},
   "source": [
    "### 2. Write a Python program to find the sum of all items in a dictionary?"
   ]
  },
  {
   "cell_type": "code",
   "execution_count": 2,
   "id": "50c53fb7-79c2-43f5-86f7-c6544cdcfca9",
   "metadata": {
    "tags": []
   },
   "outputs": [
    {
     "name": "stdin",
     "output_type": "stream",
     "text": [
      "Enter a dictionary:  {'a': 10, 'b': 20, 'c': 30, 'd': 40, 'e': 50}\n"
     ]
    },
    {
     "name": "stdout",
     "output_type": "stream",
     "text": [
      "Sum of all items in the dictionary: 150\n"
     ]
    }
   ],
   "source": [
    "def sum_of_dictionary_items(input_dict):\n",
    "    # Using the sum() function to calculate the sum of all values\n",
    "    total_sum = sum(input_dict.values())\n",
    "    return total_sum\n",
    "\n",
    "# Input from the user (dictionary)\n",
    "input_dict = eval(input(\"Enter a dictionary: \"))\n",
    "\n",
    "# Find the sum of all items in the dictionary\n",
    "result_sum = sum_of_dictionary_items(input_dict)\n",
    "\n",
    "# Display the result\n",
    "print(\"Sum of all items in the dictionary:\", result_sum)\n"
   ]
  },
  {
   "cell_type": "markdown",
   "id": "edfbc682",
   "metadata": {},
   "source": [
    "### 3. Write a Python program to Merging two Dictionaries?"
   ]
  },
  {
   "cell_type": "code",
   "execution_count": 3,
   "id": "81678d72-8227-4b8e-b557-795859a7386e",
   "metadata": {
    "tags": []
   },
   "outputs": [
    {
     "name": "stdin",
     "output_type": "stream",
     "text": [
      "Enter the first dictionary:  {'a': 10, 'b': 20, 'c': 30}\n",
      "Enter the second dictionary:  {'b': 25, 'd': 40, 'e': 50}\n"
     ]
    },
    {
     "name": "stdout",
     "output_type": "stream",
     "text": [
      "Merged Dictionary: {'a': 10, 'b': 25, 'c': 30, 'd': 40, 'e': 50}\n"
     ]
    }
   ],
   "source": [
    "def merge_dictionaries(dict1, dict2):\n",
    "    # Using the update() method to merge dictionaries\n",
    "    merged_dict = dict1.copy()\n",
    "    merged_dict.update(dict2)\n",
    "    return merged_dict\n",
    "\n",
    "# Input from the user (two dictionaries)\n",
    "dict1 = eval(input(\"Enter the first dictionary: \"))\n",
    "dict2 = eval(input(\"Enter the second dictionary: \"))\n",
    "\n",
    "# Merge the two dictionaries\n",
    "result_merged_dict = merge_dictionaries(dict1, dict2)\n",
    "\n",
    "# Display the result\n",
    "print(\"Merged Dictionary:\", result_merged_dict)\n"
   ]
  },
  {
   "cell_type": "markdown",
   "id": "62eaf687",
   "metadata": {},
   "source": [
    "### 4. Write a Python program to convert key-values list to flat dictionary?"
   ]
  },
  {
   "cell_type": "code",
   "execution_count": 4,
   "id": "5fa0ee3c-9f57-4c35-85a7-412052f64369",
   "metadata": {
    "tags": []
   },
   "outputs": [
    {
     "name": "stdin",
     "output_type": "stream",
     "text": [
      "Enter a list of key-value pairs:  [('a', 10), ('b', 20), ('c', 30)]\n"
     ]
    },
    {
     "name": "stdout",
     "output_type": "stream",
     "text": [
      "Flat Dictionary: {'a': 10, 'b': 20, 'c': 30}\n"
     ]
    }
   ],
   "source": [
    "def key_values_list_to_dict(key_values_list):\n",
    "    # Using dictionary comprehension to create a flat dictionary\n",
    "    flat_dict = {key: value for key, value in key_values_list}\n",
    "    return flat_dict\n",
    "\n",
    "# Input from the user (list of key-value pairs)\n",
    "key_values_list = eval(input(\"Enter a list of key-value pairs: \"))\n",
    "\n",
    "# Convert the list to a flat dictionary\n",
    "result_flat_dict = key_values_list_to_dict(key_values_list)\n",
    "\n",
    "# Display the result\n",
    "print(\"Flat Dictionary:\", result_flat_dict)\n"
   ]
  },
  {
   "cell_type": "markdown",
   "id": "fcc5015f",
   "metadata": {},
   "source": [
    "### 5. Write a Python program to insertion at the beginning in OrderedDict?"
   ]
  },
  {
   "cell_type": "code",
   "execution_count": 5,
   "id": "b0b7a6a9-64bb-4886-96df-42dc8fea6d7d",
   "metadata": {
    "tags": []
   },
   "outputs": [
    {
     "name": "stdin",
     "output_type": "stream",
     "text": [
      "Enter an OrderedDict:  OrderedDict([('a', 10), ('b', 20), ('c', 30)])\n",
      "Enter a key to insert:  x\n",
      "Enter a value to insert:  5\n"
     ]
    },
    {
     "name": "stdout",
     "output_type": "stream",
     "text": [
      "OrderedDict after insertion at the beginning: OrderedDict([('x', '5'), ('a', 10), ('b', 20), ('c', 30)])\n"
     ]
    }
   ],
   "source": [
    "from collections import OrderedDict\n",
    "\n",
    "def insert_at_beginning(ordered_dict, key, value):\n",
    "    # Using move_to_end to insert at the beginning\n",
    "    ordered_dict[key] = value\n",
    "    ordered_dict.move_to_end(key, last=False)\n",
    "\n",
    "# Input from the user (OrderedDict and key-value pair)\n",
    "ordered_dict = eval(input(\"Enter an OrderedDict: \"))\n",
    "key = input(\"Enter a key to insert: \")\n",
    "value = input(\"Enter a value to insert: \")\n",
    "\n",
    "# Perform insertion at the beginning\n",
    "insert_at_beginning(ordered_dict, key, value)\n",
    "\n",
    "# Display the modified OrderedDict\n",
    "print(\"OrderedDict after insertion at the beginning:\", ordered_dict)\n"
   ]
  },
  {
   "cell_type": "markdown",
   "id": "5978c9ab",
   "metadata": {},
   "source": [
    "### 6. Write a Python program to check order of character in string using OrderedDict()?"
   ]
  },
  {
   "cell_type": "code",
   "execution_count": 7,
   "id": "4c9be42a-e968-4be1-92d4-29376acc2593",
   "metadata": {
    "tags": []
   },
   "outputs": [
    {
     "name": "stdin",
     "output_type": "stream",
     "text": [
      "Enter a string:  abcdxyze\n",
      "Enter a pattern to check order:  adze\n"
     ]
    },
    {
     "name": "stdout",
     "output_type": "stream",
     "text": [
      "The order of characters in 'adze' is preserved in the string.\n"
     ]
    }
   ],
   "source": [
    "from collections import OrderedDict\n",
    "\n",
    "def check_order_of_characters(input_string, pattern):\n",
    "    # Creating an OrderedDict to store the order of characters in the input string\n",
    "    char_order = OrderedDict.fromkeys(input_string)\n",
    "\n",
    "    # Checking if the pattern characters occur in the same order in the input string\n",
    "    index = 0\n",
    "    for char in char_order:\n",
    "        if index < len(pattern) and char == pattern[index]:\n",
    "            index += 1\n",
    "\n",
    "    # If all characters in the pattern are found in the correct order\n",
    "    return index == len(pattern)\n",
    "\n",
    "# Input from the user\n",
    "input_string = input(\"Enter a string: \")\n",
    "pattern = input(\"Enter a pattern to check order: \")\n",
    "\n",
    "# Check the order of characters in the string\n",
    "result = check_order_of_characters(input_string, pattern)\n",
    "\n",
    "# Display the result\n",
    "if result:\n",
    "    print(f\"The order of characters in '{pattern}' is preserved in the string.\")\n",
    "else:\n",
    "    print(f\"The order of characters in '{pattern}' is not preserved in the string.\")\n"
   ]
  },
  {
   "cell_type": "markdown",
   "id": "f330da77",
   "metadata": {},
   "source": [
    "### 7. Write a Python program to sort Python Dictionaries by Key or Value?"
   ]
  },
  {
   "cell_type": "code",
   "execution_count": 8,
   "id": "da43f4d2-ea87-4c94-b3b7-8d1a9bc57675",
   "metadata": {
    "tags": []
   },
   "outputs": [
    {
     "name": "stdin",
     "output_type": "stream",
     "text": [
      "Enter a dictionary:  {'b': 20, 'a': 10, 'd': 40, 'c': 30}\n",
      "Sort by key? (yes/no):  yes\n"
     ]
    },
    {
     "name": "stdout",
     "output_type": "stream",
     "text": [
      "Sorted Dictionary: {'a': 10, 'b': 20, 'c': 30, 'd': 40}\n"
     ]
    }
   ],
   "source": [
    "def sort_dictionary(input_dict, by_key=True):\n",
    "    # Sorting by key or value\n",
    "    sorted_dict = dict(sorted(input_dict.items(), key=lambda x: x[0] if by_key else x[1]))\n",
    "    return sorted_dict\n",
    "\n",
    "# Input from the user (dictionary)\n",
    "input_dict = eval(input(\"Enter a dictionary: \"))\n",
    "\n",
    "# Choose sorting by key or value\n",
    "sort_by_key = input(\"Sort by key? (yes/no): \").lower() == 'yes'\n",
    "\n",
    "# Sort the dictionary\n",
    "result_sorted_dict = sort_dictionary(input_dict, by_key=sort_by_key)\n",
    "\n",
    "# Display the result\n",
    "print(\"Sorted Dictionary:\", result_sorted_dict)\n"
   ]
  },
  {
   "cell_type": "code",
   "execution_count": null,
   "id": "9d9ef506-163a-4eeb-b577-7e8133f1d58b",
   "metadata": {},
   "outputs": [],
   "source": []
  }
 ],
 "metadata": {
  "kernelspec": {
   "display_name": "Python 3 (ipykernel)",
   "language": "python",
   "name": "python3"
  },
  "language_info": {
   "codemirror_mode": {
    "name": "ipython",
    "version": 3
   },
   "file_extension": ".py",
   "mimetype": "text/x-python",
   "name": "python",
   "nbconvert_exporter": "python",
   "pygments_lexer": "ipython3",
   "version": "3.11.4"
  }
 },
 "nbformat": 4,
 "nbformat_minor": 5
}
