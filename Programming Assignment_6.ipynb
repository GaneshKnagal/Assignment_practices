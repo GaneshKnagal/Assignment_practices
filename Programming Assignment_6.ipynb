{
 "cells": [
  {
   "cell_type": "markdown",
   "id": "84a41a9f",
   "metadata": {},
   "source": [
    "# Programming Basic Assignment 6"
   ]
  },
  {
   "cell_type": "markdown",
   "id": "a4b40558",
   "metadata": {},
   "source": [
    "### 1. Write a Python Program to Display Fibonacci Sequence Using Recursion?"
   ]
  },
  {
   "cell_type": "code",
   "execution_count": 1,
   "id": "0de5958f-45ee-4e1e-a86a-8209e7fc94cd",
   "metadata": {
    "tags": []
   },
   "outputs": [],
   "source": [
    "def fibonacci_recursive(n):\n",
    "    if n <= 0:\n",
    "        return \"Invalid input. Please enter a positive integer.\"\n",
    "    elif n == 1:\n",
    "        return [0]\n",
    "    elif n == 2:\n",
    "        return [0, 1]\n",
    "    else:\n",
    "        fib_sequence = fibonacci_recursive(n - 1)\n",
    "        fib_sequence.append(fib_sequence[-1] + fib_sequence[-2])\n",
    "        return fib_sequence\n"
   ]
  },
  {
   "cell_type": "code",
   "execution_count": 2,
   "id": "52bd4d24-6465-4a90-bc94-0e1fb926c6b4",
   "metadata": {
    "tags": []
   },
   "outputs": [
    {
     "name": "stdout",
     "output_type": "stream",
     "text": [
      "The Fibonacci sequence up to 10 terms is:\n",
      "[0, 1, 1, 2, 3, 5, 8, 13, 21, 34]\n"
     ]
    }
   ],
   "source": [
    "# Example: Display the Fibonacci sequence up to 10 terms\n",
    "num_terms = 10\n",
    "\n",
    "fibonacci_sequence_result = fibonacci_recursive(num_terms)\n",
    "\n",
    "print(f\"The Fibonacci sequence up to {num_terms} terms is:\")\n",
    "print(fibonacci_sequence_result)"
   ]
  },
  {
   "cell_type": "code",
   "execution_count": null,
   "id": "e28f7d72-574f-4a18-9626-478b437fd32e",
   "metadata": {},
   "outputs": [],
   "source": []
  },
  {
   "cell_type": "markdown",
   "id": "d7a57f60",
   "metadata": {},
   "source": [
    "### 2. Write a Python Program to Find Factorial of Number Using Recursion?"
   ]
  },
  {
   "cell_type": "code",
   "execution_count": 10,
   "id": "7791ba68-1190-4104-8ab8-11b34965c601",
   "metadata": {
    "tags": []
   },
   "outputs": [],
   "source": [
    "def factorical_num(n):\n",
    "    if n<0:\n",
    "        print(\"invalid input\")\n",
    "    elif n==0:\n",
    "        return 1\n",
    "    else:\n",
    "        c=n*factorical_num(n-1)\n",
    "    return c"
   ]
  },
  {
   "cell_type": "code",
   "execution_count": 12,
   "id": "49cdf90e-6652-4c6c-9d12-5ea8c08207c5",
   "metadata": {
    "tags": []
   },
   "outputs": [
    {
     "data": {
      "text/plain": [
       "120"
      ]
     },
     "execution_count": 12,
     "metadata": {},
     "output_type": "execute_result"
    }
   ],
   "source": [
    "factorical_num(5)"
   ]
  },
  {
   "cell_type": "markdown",
   "id": "0357b86f",
   "metadata": {},
   "source": [
    "### 3. Write a Python Program to calculate your Body Mass Index?"
   ]
  },
  {
   "cell_type": "code",
   "execution_count": 13,
   "id": "63adc374-358d-42d7-ae4b-b65a22dafc9c",
   "metadata": {
    "tags": []
   },
   "outputs": [
    {
     "name": "stdin",
     "output_type": "stream",
     "text": [
      "Enter your weight in kilograms:  70\n",
      "Enter your height in meters:  1.75\n"
     ]
    },
    {
     "name": "stdout",
     "output_type": "stream",
     "text": [
      "Your Body Mass Index (BMI) is: 22.86\n"
     ]
    }
   ],
   "source": [
    "def calculate_bmi(weight, height):\n",
    "    # Formula for BMI: BMI = weight (kg) / (height (m))^2\n",
    "    bmi = weight / (height ** 2)\n",
    "    return bmi\n",
    "\n",
    "# Input from the user\n",
    "weight_kg = float(input(\"Enter your weight in kilograms: \"))\n",
    "height_m = float(input(\"Enter your height in meters: \"))\n",
    "\n",
    "# Calculate BMI\n",
    "bmi_result = calculate_bmi(weight_kg, height_m)\n",
    "\n",
    "# Display the result\n",
    "print(f\"Your Body Mass Index (BMI) is: {bmi_result:.2f}\")\n"
   ]
  },
  {
   "cell_type": "code",
   "execution_count": null,
   "id": "74a040ee-cdd2-4a38-a355-a3b8f52be575",
   "metadata": {},
   "outputs": [],
   "source": []
  },
  {
   "cell_type": "markdown",
   "id": "96d344a4",
   "metadata": {},
   "source": [
    "### 4. Write a Python Program to calculate the natural logarithm of any number?"
   ]
  },
  {
   "cell_type": "code",
   "execution_count": 14,
   "id": "e149d700-f39c-41a9-b20b-8eba0c013daa",
   "metadata": {
    "tags": []
   },
   "outputs": [
    {
     "name": "stdin",
     "output_type": "stream",
     "text": [
      "Enter a number to calculate its natural logarithm:  10\n"
     ]
    },
    {
     "name": "stdout",
     "output_type": "stream",
     "text": [
      "The natural logarithm of 10.0 is: 2.3026\n"
     ]
    }
   ],
   "source": [
    "import math\n",
    "\n",
    "def calculate_natural_logarithm(number):\n",
    "    if number <= 0:\n",
    "        return \"Invalid input. Please enter a positive number.\"\n",
    "\n",
    "    result = math.log(number)\n",
    "    return result\n",
    "\n",
    "# Input from the user\n",
    "number_to_log = float(input(\"Enter a number to calculate its natural logarithm: \"))\n",
    "\n",
    "# Calculate natural logarithm\n",
    "logarithm_result = calculate_natural_logarithm(number_to_log)\n",
    "\n",
    "# Display the result\n",
    "print(f\"The natural logarithm of {number_to_log} is: {logarithm_result:.4f}\")\n"
   ]
  },
  {
   "cell_type": "code",
   "execution_count": null,
   "id": "c4f7dfaf-1e33-4c05-ba90-5a0cc78dfb81",
   "metadata": {},
   "outputs": [],
   "source": []
  },
  {
   "cell_type": "markdown",
   "id": "11c0d92c",
   "metadata": {},
   "source": [
    "\n",
    "### 5. Write a Python Program for cube sum of first n natural numbers?\n"
   ]
  },
  {
   "cell_type": "code",
   "execution_count": 15,
   "id": "3289e31c-7e73-499f-aa0c-a2b8af84b7eb",
   "metadata": {
    "tags": []
   },
   "outputs": [],
   "source": [
    "def cube_sum_of_natural_numbers(n):\n",
    "    if n <= 0:\n",
    "        return \"Invalid input. Please enter a positive integer.\"\n",
    "\n",
    "    cube_sum = sum(i**3 for i in range(1, n + 1))\n",
    "    return cube_sum\n"
   ]
  },
  {
   "cell_type": "code",
   "execution_count": 16,
   "id": "2154ea60-37c7-4d0b-9210-94d8e43b7c44",
   "metadata": {
    "tags": []
   },
   "outputs": [
    {
     "data": {
      "text/plain": [
       "225"
      ]
     },
     "execution_count": 16,
     "metadata": {},
     "output_type": "execute_result"
    }
   ],
   "source": [
    "cube_sum_of_natural_numbers(5)"
   ]
  },
  {
   "cell_type": "code",
   "execution_count": null,
   "id": "5ab3c779-7118-4a44-bf09-a8550cdc7a7f",
   "metadata": {},
   "outputs": [],
   "source": []
  }
 ],
 "metadata": {
  "kernelspec": {
   "display_name": "Python 3 (ipykernel)",
   "language": "python",
   "name": "python3"
  },
  "language_info": {
   "codemirror_mode": {
    "name": "ipython",
    "version": 3
   },
   "file_extension": ".py",
   "mimetype": "text/x-python",
   "name": "python",
   "nbconvert_exporter": "python",
   "pygments_lexer": "ipython3",
   "version": "3.11.4"
  }
 },
 "nbformat": 4,
 "nbformat_minor": 5
}
