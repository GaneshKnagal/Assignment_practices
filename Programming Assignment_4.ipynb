{
 "cells": [
  {
   "cell_type": "markdown",
   "id": "20cb4340",
   "metadata": {
    "id": "20cb4340"
   },
   "source": [
    "## Programming Assignment_4\n",
    "----------------"
   ]
  },
  {
   "cell_type": "markdown",
   "id": "4fdb6695",
   "metadata": {
    "id": "4fdb6695"
   },
   "source": [
    "### 1. Write a Python Program to Find the Factorial of a Number?"
   ]
  },
  {
   "cell_type": "code",
   "execution_count": 1,
   "id": "hOeAnUwS8YPP",
   "metadata": {
    "id": "hOeAnUwS8YPP",
    "tags": []
   },
   "outputs": [],
   "source": [
    "def Factorial(a):\n",
    "    c=1\n",
    "    for i in range(1,a+1):\n",
    "        c=c*i\n",
    "    return c        "
   ]
  },
  {
   "cell_type": "code",
   "execution_count": 2,
   "id": "7eb169ad-48b6-4482-a2fe-ccda9f4ecbec",
   "metadata": {
    "tags": []
   },
   "outputs": [
    {
     "data": {
      "text/plain": [
       "120"
      ]
     },
     "execution_count": 2,
     "metadata": {},
     "output_type": "execute_result"
    }
   ],
   "source": [
    "Factorial(5)"
   ]
  },
  {
   "cell_type": "code",
   "execution_count": 3,
   "id": "634d7a42-feb4-42a2-8de6-70e61c87779b",
   "metadata": {
    "tags": []
   },
   "outputs": [
    {
     "data": {
      "text/plain": [
       "1"
      ]
     },
     "execution_count": 3,
     "metadata": {},
     "output_type": "execute_result"
    }
   ],
   "source": [
    "Factorial(0)"
   ]
  },
  {
   "cell_type": "markdown",
   "id": "e6beef62",
   "metadata": {
    "id": "e6beef62"
   },
   "source": [
    "### 2. Write a Python Program to Display the multiplication Table?"
   ]
  },
  {
   "cell_type": "code",
   "execution_count": 9,
   "id": "KRlnRPqETMOx",
   "metadata": {
    "id": "KRlnRPqETMOx",
    "tags": []
   },
   "outputs": [],
   "source": [
    "def multiplation_table(a):\n",
    "    for i in range(1,11):\n",
    "        c=a*i\n",
    "        print(f\"{a} x {i} = {c}\")"
   ]
  },
  {
   "cell_type": "code",
   "execution_count": 10,
   "id": "85c0f02b-6bf7-4747-b62e-f4a500fe9f7d",
   "metadata": {
    "id": "-DGZq5N22z65",
    "tags": []
   },
   "outputs": [
    {
     "name": "stdout",
     "output_type": "stream",
     "text": [
      "7 x 1 = 7\n",
      "7 x 2 = 14\n",
      "7 x 3 = 21\n",
      "7 x 4 = 28\n",
      "7 x 5 = 35\n",
      "7 x 6 = 42\n",
      "7 x 7 = 49\n",
      "7 x 8 = 56\n",
      "7 x 9 = 63\n",
      "7 x 10 = 70\n"
     ]
    }
   ],
   "source": [
    "multiplation_table(7)"
   ]
  },
  {
   "cell_type": "markdown",
   "id": "7de7eba5",
   "metadata": {
    "id": "7de7eba5"
   },
   "source": [
    "### 3. Write a Python Program to Print the Fibonacci sequence?\n"
   ]
  },
  {
   "cell_type": "code",
   "execution_count": 11,
   "id": "01e7dda4-37cf-456c-8e7c-d93401b02a6b",
   "metadata": {
    "tags": []
   },
   "outputs": [],
   "source": [
    "def fibonacci_sequence(n):\n",
    "    fib_sequence = [0, 1]\n",
    "\n",
    "    while len(fib_sequence) < n:\n",
    "        next_term = fib_sequence[-1] + fib_sequence[-2]\n",
    "        fib_sequence.append(next_term)\n",
    "\n",
    "    return fib_sequence"
   ]
  },
  {
   "cell_type": "code",
   "execution_count": 12,
   "id": "9b76ecfd-8ce8-42b3-a873-096435ecd9ea",
   "metadata": {
    "tags": []
   },
   "outputs": [
    {
     "data": {
      "text/plain": [
       "[0, 1, 1, 2, 3, 5, 8, 13, 21, 34]"
      ]
     },
     "execution_count": 12,
     "metadata": {},
     "output_type": "execute_result"
    }
   ],
   "source": [
    "fibonacci_sequence(10)"
   ]
  },
  {
   "cell_type": "markdown",
   "id": "0446442e",
   "metadata": {
    "id": "0446442e"
   },
   "source": [
    "### 4. Write a Python Program to Check Armstrong Number?"
   ]
  },
  {
   "cell_type": "code",
   "execution_count": 13,
   "id": "12d52b95-d4d3-4f2e-8eb0-879c83177b2d",
   "metadata": {
    "tags": []
   },
   "outputs": [],
   "source": [
    "def is_armstrong_number(number):\n",
    "    num_digits = len(str(number))\n",
    "    temp = number\n",
    "    sum_of_digits = 0\n",
    "\n",
    "    while temp > 0:\n",
    "        digit = temp % 10\n",
    "        sum_of_digits += digit ** num_digits\n",
    "        temp //= 10\n",
    "\n",
    "    return number == sum_of_digits"
   ]
  },
  {
   "cell_type": "code",
   "execution_count": 14,
   "id": "9c92a23b-617f-4e1a-bf24-6992eaafed49",
   "metadata": {
    "tags": []
   },
   "outputs": [
    {
     "data": {
      "text/plain": [
       "True"
      ]
     },
     "execution_count": 14,
     "metadata": {},
     "output_type": "execute_result"
    }
   ],
   "source": [
    "is_armstrong_number(153)"
   ]
  },
  {
   "cell_type": "markdown",
   "id": "a6f9adfe",
   "metadata": {
    "id": "a6f9adfe"
   },
   "source": [
    "### 5. Write a Python Program to Find Armstrong Number in an Interval?"
   ]
  },
  {
   "cell_type": "code",
   "execution_count": 15,
   "id": "15b31cae-dfc0-47fa-bca4-b41f1f4ba734",
   "metadata": {
    "id": "qbmbp0_822o1",
    "tags": []
   },
   "outputs": [],
   "source": [
    "def is_armstrong_number(number):\n",
    "    num_digits = len(str(number))\n",
    "    temp = number\n",
    "    sum_of_digits = 0\n",
    "\n",
    "    while temp > 0:\n",
    "        digit = temp % 10\n",
    "        sum_of_digits += digit ** num_digits\n",
    "        temp //= 10\n",
    "\n",
    "    return number == sum_of_digits\n",
    "\n",
    "def find_armstrong_numbers_in_interval(start, end):\n",
    "    armstrong_numbers = []\n",
    "\n",
    "    for num in range(start, end + 1):\n",
    "        if is_armstrong_number(num):\n",
    "            armstrong_numbers.append(num)\n",
    "\n",
    "    return armstrong_numbers"
   ]
  },
  {
   "cell_type": "code",
   "execution_count": 16,
   "id": "66415b7b-01f8-4915-9f79-4465ffaff2d5",
   "metadata": {
    "tags": []
   },
   "outputs": [
    {
     "data": {
      "text/plain": [
       "[1, 2, 3, 4, 5, 6, 7, 8, 9, 153, 370, 371, 407]"
      ]
     },
     "execution_count": 16,
     "metadata": {},
     "output_type": "execute_result"
    }
   ],
   "source": [
    "find_armstrong_numbers_in_interval(1,1000)"
   ]
  },
  {
   "cell_type": "markdown",
   "id": "157cad60",
   "metadata": {
    "id": "157cad60"
   },
   "source": [
    "### 6. Write a Python Program to Find the Sum of Natural Numbers?"
   ]
  },
  {
   "cell_type": "code",
   "execution_count": 18,
   "id": "31226fb6-5079-4e34-917c-0fe6d8c299ae",
   "metadata": {
    "tags": []
   },
   "outputs": [],
   "source": [
    "def sum_natural(a):\n",
    "    sum = (a+1)*a/2\n",
    "    return sum"
   ]
  },
  {
   "cell_type": "code",
   "execution_count": 19,
   "id": "f7f8b380-cc93-4ed2-a3db-8c8e38f12888",
   "metadata": {
    "tags": []
   },
   "outputs": [
    {
     "data": {
      "text/plain": [
       "5050.0"
      ]
     },
     "execution_count": 19,
     "metadata": {},
     "output_type": "execute_result"
    }
   ],
   "source": [
    "sum_natural(100)"
   ]
  },
  {
   "cell_type": "code",
   "execution_count": null,
   "id": "29333ed5-40e7-474c-9615-b05bc41d833e",
   "metadata": {},
   "outputs": [],
   "source": []
  }
 ],
 "metadata": {
  "colab": {
   "provenance": []
  },
  "kernelspec": {
   "display_name": "Python 3 (ipykernel)",
   "language": "python",
   "name": "python3"
  },
  "language_info": {
   "codemirror_mode": {
    "name": "ipython",
    "version": 3
   },
   "file_extension": ".py",
   "mimetype": "text/x-python",
   "name": "python",
   "nbconvert_exporter": "python",
   "pygments_lexer": "ipython3",
   "version": "3.11.4"
  }
 },
 "nbformat": 4,
 "nbformat_minor": 5
}
