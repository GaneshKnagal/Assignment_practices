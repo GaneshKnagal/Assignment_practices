{
 "cells": [
  {
   "cell_type": "markdown",
   "id": "7df6e6a0",
   "metadata": {},
   "source": [
    "## Python Basic Programming Assignment - 15\n",
    "-------------------"
   ]
  },
  {
   "cell_type": "markdown",
   "id": "de299c62",
   "metadata": {},
   "source": [
    "### 1. Please write a program using generator to print the numbers which can be divisible by 5 and 7 between 0 and n in comma separated form while n is input by console."
   ]
  },
  {
   "cell_type": "code",
   "execution_count": 1,
   "id": "0fa78841-e874-41df-8492-5a78486a7960",
   "metadata": {
    "tags": []
   },
   "outputs": [
    {
     "name": "stdin",
     "output_type": "stream",
     "text": [
      "Enter the value of n:  50\n"
     ]
    },
    {
     "name": "stdout",
     "output_type": "stream",
     "text": [
      "Numbers divisible by 5 and 7 between 0 and 50 : 0, 35\n"
     ]
    }
   ],
   "source": [
    "def divisible_by_5_and_7_generator(n):\n",
    "    for number in range(n + 1):\n",
    "        if number % 5 == 0 and number % 7 == 0:\n",
    "            yield number\n",
    "\n",
    "# Input from the user\n",
    "n = int(input(\"Enter the value of n: \"))\n",
    "\n",
    "# Use the generator to print numbers divisible by 5 and 7\n",
    "result_numbers = divisible_by_5_and_7_generator(n)\n",
    "print(\"Numbers divisible by 5 and 7 between 0 and\", n, \":\", end=\" \")\n",
    "print(\", \".join(map(str, result_numbers)))\n"
   ]
  },
  {
   "cell_type": "markdown",
   "id": "c04aab80",
   "metadata": {},
   "source": [
    "\n",
    "### 2. Please write a program using generator to print the even numbers between 0 and n in comma separated form while n is input by console."
   ]
  },
  {
   "cell_type": "code",
   "execution_count": 2,
   "id": "affe6a7e-3aca-4ee2-a25a-3a8faca1d21c",
   "metadata": {
    "tags": []
   },
   "outputs": [
    {
     "name": "stdin",
     "output_type": "stream",
     "text": [
      "Enter the value of n:  20\n"
     ]
    },
    {
     "name": "stdout",
     "output_type": "stream",
     "text": [
      "Even numbers between 0 and 20 : 0, 2, 4, 6, 8, 10, 12, 14, 16, 18, 20\n"
     ]
    }
   ],
   "source": [
    "def even_numbers_generator(n):\n",
    "    for number in range(n + 1):\n",
    "        if number % 2 == 0:\n",
    "            yield number\n",
    "\n",
    "# Input from the user\n",
    "n = int(input(\"Enter the value of n: \"))\n",
    "\n",
    "# Use the generator to print even numbers\n",
    "result_numbers = even_numbers_generator(n)\n",
    "print(\"Even numbers between 0 and\", n, \":\", end=\" \")\n",
    "print(\", \".join(map(str, result_numbers)))\n"
   ]
  },
  {
   "cell_type": "markdown",
   "id": "35b72559",
   "metadata": {},
   "source": [
    "### 3. Please write a program using list comprehension to print the Fibonacci Sequence in comma separated form with a given n input by console."
   ]
  },
  {
   "cell_type": "code",
   "execution_count": 8,
   "id": "c0e39f69-7c31-4e9c-83a2-0c2073066d01",
   "metadata": {
    "tags": []
   },
   "outputs": [
    {
     "name": "stdin",
     "output_type": "stream",
     "text": [
      "Enter the value of n:  10\n"
     ]
    },
    {
     "name": "stdout",
     "output_type": "stream",
     "text": [
      "Fibonacci Sequence with 10 elements: 0, 1, 1, 2, 3, 5, 8, 13, 21, 34, 55\n"
     ]
    }
   ],
   "source": [
    "def fibonacci_sequence(n):\n",
    "    sequence = [0, 1] + [0] * (n - 1)\n",
    "    for i in range(2, n + 1):\n",
    "        sequence[i] = sequence[i - 1] + sequence[i - 2]\n",
    "    return sequence\n",
    "\n",
    "# Input from the user\n",
    "n = int(input(\"Enter the value of n: \"))\n",
    "\n",
    "# Generate and print the Fibonacci Sequence\n",
    "result_sequence = fibonacci_sequence(n)\n",
    "print(\"Fibonacci Sequence with\", n, \"elements:\", end=\" \")\n",
    "print(\", \".join(map(str, result_sequence)))\n"
   ]
  },
  {
   "cell_type": "markdown",
   "id": "dea0be0f",
   "metadata": {},
   "source": [
    "\n",
    "### 4. Assuming that we have some email addresses in the \"username@companyname.com\" format, please write program to print the user name of a given email address. Both user names and company names are composed of letters only."
   ]
  },
  {
   "cell_type": "code",
   "execution_count": 9,
   "id": "3e836d81-c324-48bf-8a6c-8ffeffb97b03",
   "metadata": {
    "tags": []
   },
   "outputs": [
    {
     "name": "stdin",
     "output_type": "stream",
     "text": [
      "Enter the email address:  john.doe@example.com\n"
     ]
    },
    {
     "name": "stdout",
     "output_type": "stream",
     "text": [
      "Username: Invalid email format\n"
     ]
    }
   ],
   "source": [
    "import re\n",
    "\n",
    "def extract_username(email):\n",
    "    # Define a regular expression pattern to match the username\n",
    "    pattern = re.compile(r'([a-zA-Z]+)@([a-zA-Z]+\\.com)')\n",
    "\n",
    "    # Use the pattern to search for matches in the email address\n",
    "    match = pattern.match(email)\n",
    "\n",
    "    # Check if a match is found and return the username\n",
    "    if match:\n",
    "        return match.group(1)\n",
    "    else:\n",
    "        return \"Invalid email format\"\n",
    "\n",
    "# Input from the user\n",
    "email_address = input(\"Enter the email address: \")\n",
    "\n",
    "# Extract and print the username\n",
    "username = extract_username(email_address)\n",
    "print(\"Username:\", username)\n"
   ]
  },
  {
   "cell_type": "code",
   "execution_count": 10,
   "id": "5087faa9-d813-418c-a6ea-4727520b232c",
   "metadata": {
    "tags": []
   },
   "outputs": [
    {
     "name": "stdin",
     "output_type": "stream",
     "text": [
      "Enter the email address:  alice@companyname.com\n"
     ]
    },
    {
     "name": "stdout",
     "output_type": "stream",
     "text": [
      "Username: alice\n"
     ]
    }
   ],
   "source": [
    "# Input from the user\n",
    "email_address = input(\"Enter the email address: \")\n",
    "\n",
    "# Extract and print the username\n",
    "username = extract_username(email_address)\n",
    "print(\"Username:\", username)\n"
   ]
  },
  {
   "cell_type": "markdown",
   "id": "2834c88f",
   "metadata": {},
   "source": [
    "\n",
    "### 5. Define a class named Shape and its subclass Square. The Square class has an init function which takes a length as argument. Both classes have a area function which can print the area of the shape where Shape's area is 0 by default."
   ]
  },
  {
   "cell_type": "code",
   "execution_count": 11,
   "id": "3d2a37ab-2cb9-470d-9bb4-e45955212837",
   "metadata": {
    "tags": []
   },
   "outputs": [
    {
     "name": "stdout",
     "output_type": "stream",
     "text": [
      "Area of Shape: 0\n",
      "Area of Square: 25\n"
     ]
    }
   ],
   "source": [
    "class Shape:\n",
    "    def __init__(self):\n",
    "        pass  # No need for any initialization in the base class\n",
    "\n",
    "    def area(self):\n",
    "        return 0  # Default area for the base class\n",
    "\n",
    "class Square(Shape):\n",
    "    def __init__(self, length):\n",
    "        super().__init__()  # Call the init of the base class\n",
    "        self.length = length\n",
    "\n",
    "    def area(self):\n",
    "        return self.length ** 2  # Area of a square is length squared\n",
    "\n",
    "# Example usage\n",
    "shape = Shape()\n",
    "print(\"Area of Shape:\", shape.area())  # Output: 0\n",
    "\n",
    "square = Square(5)\n",
    "print(\"Area of Square:\", square.area())  # Output: 25\n"
   ]
  },
  {
   "cell_type": "code",
   "execution_count": null,
   "id": "4c93e865-9eea-444b-9ef0-1148e06e9eaa",
   "metadata": {},
   "outputs": [],
   "source": []
  }
 ],
 "metadata": {
  "kernelspec": {
   "display_name": "Python 3 (ipykernel)",
   "language": "python",
   "name": "python3"
  },
  "language_info": {
   "codemirror_mode": {
    "name": "ipython",
    "version": 3
   },
   "file_extension": ".py",
   "mimetype": "text/x-python",
   "name": "python",
   "nbconvert_exporter": "python",
   "pygments_lexer": "ipython3",
   "version": "3.11.4"
  }
 },
 "nbformat": 4,
 "nbformat_minor": 5
}
